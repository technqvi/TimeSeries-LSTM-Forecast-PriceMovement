{
 "cells": [
  {
   "cell_type": "code",
   "execution_count": 1,
   "id": "3206afc6-ad3f-4dc3-8af8-660e8c306ebc",
   "metadata": {},
   "outputs": [],
   "source": [
    "import pandas as pd\n",
    "import numpy as np\n",
    "import os\n",
    "from datetime import datetime,date,timedelta,timezone\n",
    "\n",
    "from google.cloud import bigquery\n",
    "from google.oauth2 import service_account\n",
    "from google.cloud.exceptions import NotFound\n",
    "from google.api_core.exceptions import BadRequest\n",
    "\n",
    "\n",
    "from ta.utils import dropna\n",
    "import ta.trend as ta_trend\n",
    "import ta.momentum as ta_mmt\n",
    "import ta.others as ta_other\n",
    "import ta \n",
    "#https://github.com/bukosabino/ta\n",
    "\n",
    "\n",
    "import yfinance as yf\n",
    "#https://github.com/ranaroussi/yfinance\n",
    "\n",
    "# Often when people are talking about the stock market, \n",
    "# they're referring to US exchanges – such as the NYSE or NASDAQ – which are open from 14.30 to 21:00 (UTC)"
   ]
  },
  {
   "cell_type": "code",
   "execution_count": 36,
   "id": "d18f6c78-00cf-4c76-af8a-6cbe66566c10",
   "metadata": {},
   "outputs": [],
   "source": [
    "# import functions_framework\n",
    "# @functions_framework.http\n",
    "# def load_asset_price_yahoo(request):"
   ]
  },
  {
   "cell_type": "markdown",
   "id": "fab99818-cbd2-4b5f-8173-331dbed3b056",
   "metadata": {},
   "source": [
    "# Enviroment Variable "
   ]
  },
  {
   "cell_type": "code",
   "execution_count": 37,
   "id": "1ef2c938-3b4c-42c4-bcc0-2b7cd37cb143",
   "metadata": {},
   "outputs": [],
   "source": [
    "start_date=os.environ.get('START_DATE', '')  # First recoud \n",
    "end_date=os.environ.get('END_DATE', '') \n",
    "\n",
    "# start_date=os.environ.get('START_DATE', '2022-12-01')\n",
    "# end_date=os.environ.get('END_DATE', '2023-05-31') \n",
    "\n",
    "symbol_str_list=os.environ.get('SYMBOL_STR_LIST', 'QQQ')\n",
    "#symbol_str_list=os.environ.get('SYMBOL_STR_LIST', 'SPY,QQQ,ACWI') # S&P500,NasDaq,World\n",
    "\n",
    "nLastToIndy=int(os.environ.get('N_LAST_DATA', '45'))  # get data to calcualte EMA \n",
    "\n",
    "\n",
    "list_cols=['Date','Symbol','Close']"
   ]
  },
  {
   "cell_type": "markdown",
   "id": "8bc095c8-b295-4cb4-a508-4ffbdb741242",
   "metadata": {},
   "source": [
    "# Constant Value"
   ]
  },
  {
   "cell_type": "code",
   "execution_count": 38,
   "id": "efa263e9-4200-40aa-b72e-49b9f5cf1d5b",
   "metadata": {},
   "outputs": [],
   "source": [
    "source='yahoo'  # csv / yahoo\n",
    "write_method='WRITE_APPEND'\n",
    "\n",
    "ab_path=\"data/AB-QQQ_2014-12-01_NOW.csv\" # if  load csv\n",
    "\n",
    "# my_tz='Asia/Bangkok'\n",
    "#write_method='WRITE_EMPTY' #'WRITE_TRUNCATE'"
   ]
  },
  {
   "cell_type": "code",
   "execution_count": 39,
   "id": "aeb23e60-62fa-4daa-8474-ad4a4fded78c",
   "metadata": {},
   "outputs": [
    {
     "name": "stdout",
     "output_type": "stream",
     "text": [
      "['QQQ']\n"
     ]
    }
   ],
   "source": [
    "symbol_list= symbol_str_list.split(',')\n",
    "print(symbol_list)\n"
   ]
  },
  {
   "cell_type": "code",
   "execution_count": 40,
   "id": "df6392b2-7adc-4be1-b000-9287b80dc33a",
   "metadata": {},
   "outputs": [
    {
     "name": "stdout",
     "output_type": "stream",
     "text": [
      " yahoo Mode  : Get ['QQQ'] from 2023-06-09 to 2023-06-10 at 2023-06-10 09:51:02.956363+00:00\n"
     ]
    }
   ],
   "source": [
    "import_dt=datetime.now(timezone.utc)\n",
    "#import_dt=datetime.now(pytz.timezone(my_tz))\n",
    "#import_dt=datetime.now(pytz.utc)\n",
    "\n",
    "if  start_date=='' and end_date=='':\n",
    "  start_date=(import_dt+timedelta(days=-1)).strftime(\"%Y-%m-%d\")\n",
    "  end_date= import_dt.strftime(\"%Y-%m-%d\")\n",
    "  # end_date=start_date  \n",
    "\n",
    "if source=='yahoo':\n",
    " print(f\" {source} Mode  : Get {symbol_list} from {start_date} to {end_date} at {import_dt}\" ) \n",
    "else:\n",
    "  print(f\"{source} Mode  : Get {symbol_list} from {ab_path}\" )    "
   ]
  },
  {
   "cell_type": "code",
   "execution_count": null,
   "id": "9d8234ef-3777-4175-9240-893008c22b33",
   "metadata": {},
   "outputs": [],
   "source": []
  },
  {
   "cell_type": "markdown",
   "id": "2bf6c30e-65bc-4fb0-96e5-f0752a723cd8",
   "metadata": {},
   "source": [
    "# BigQuery"
   ]
  },
  {
   "cell_type": "code",
   "execution_count": 41,
   "id": "dd415da4-273d-4978-a44d-0ad04cea07fb",
   "metadata": {},
   "outputs": [
    {
     "name": "stdout",
     "output_type": "stream",
     "text": [
      "pongthorn.FinAssetForecast.fin_data\n"
     ]
    }
   ],
   "source": [
    "projectId=\"pongthorn\"\n",
    "dataset_id='FinAssetForecast'\n",
    "table_data_id=f\"{projectId}.{dataset_id}.fin_data\"\n",
    "print(table_data_id)\n",
    "\n",
    "client = bigquery.Client(project=projectId )\n",
    "\n",
    "def load_data_bq(sql:str):\n",
    " query_result=client.query(sql)\n",
    " df=query_result.to_dataframe()\n",
    " return df\n",
    "\n",
    "\n",
    "def importDataToBQ(dfToBQ):\n",
    "    try:\n",
    "            job_config = bigquery.LoadJobConfig(\n",
    "                write_disposition=write_method,\n",
    "            )\n",
    "            job = client.load_table_from_dataframe(\n",
    "                dfToBQ, table_data_id, job_config=job_config,\n",
    "            )  # Make an API request.\n",
    "            job.result()  # Wait for the job to complete.\n",
    "            print(f\"{source}-Total\", len(dfToBQ), f\" Add transaction to {table_data_id} bigquery successfully\")\n",
    "    except:\n",
    "          print(job.error_result)"
   ]
  },
  {
   "cell_type": "markdown",
   "id": "3c58032b-1928-42e2-b878-dd4c6e8f43f2",
   "metadata": {},
   "source": [
    "# Build Indicator as Feature using TA-Lib"
   ]
  },
  {
   "cell_type": "code",
   "execution_count": 42,
   "id": "ce2a6894-5af7-46bd-a586-874a19e9413f",
   "metadata": {},
   "outputs": [],
   "source": [
    "def build_indicator_feature(df):\n",
    "    # df['MA5d']=ta_trend.sma_indicator(close=df['Close'],window=5,fillna=True).round(4)\n",
    "    df['EMA1']=ta_trend.ema_indicator(close=df['Close'],window=10,fillna=True).round(4)\n",
    "    df['EMA2']=ta_trend.ema_indicator(close=df['Close'],window=20,fillna=True).round(4)\n",
    "    df['MACD']=ta_trend.macd(close=df['Close'], window_slow=20, window_fast=10, fillna=True).round(4)\n",
    "    df['SIGNAL']=ta_trend.macd_signal(close=df['Close'], window_slow=20, window_fast=10,window_sign=15, fillna=True).round(4)\n",
    "    return df   "
   ]
  },
  {
   "cell_type": "markdown",
   "id": "a11370ba-aa3d-466c-b29f-8c4cfbd10167",
   "metadata": {},
   "source": [
    "# Load Historical Price Exported  from Amibroker as CSV and save to BQ "
   ]
  },
  {
   "cell_type": "code",
   "execution_count": 43,
   "id": "779ece19-c693-422d-acab-25278558ea19",
   "metadata": {},
   "outputs": [],
   "source": [
    "if source=='csv': # only one symbol\n",
    "    print(\"Load data from CSV (Export from Amibroker)\")\n",
    "    '''\n",
    "    Afl file on Amibroker  Explore to train TS 01-12-2014 - 31-05-2023\n",
    "    Filter=1; \n",
    "    AddColumn(C,\"close\"); \n",
    "    '''\n",
    "    # export form Amibroker exploration from 2014- the day prior to last record \n",
    "    #ab_path=\"data/AB-QQQ_2014-12-01_2023-06-06.csv\" \n",
    "    \n",
    "    dfCSV=pd.read_csv(f'{ab_path}',parse_dates=['Date/Time'],dayfirst=True)\n",
    "    dfCSV.columns=['Symbol','Date','Close']\n",
    "    dfCSV=dfCSV[list_cols]\n",
    "    \n",
    "    dfCSV=dfCSV.drop_duplicates(subset=['Date','Symbol'],keep='last')\n",
    "    dfCSV=dfCSV.sort_values(by=['Date'])\n",
    "    # print(dfCSV.head())\n",
    "    # print(dfCSV.tail())\n",
    "    \n",
    "    dfCSV=build_indicator_feature(dfCSV)\n",
    "    \n",
    "    dfCSV['ImportDateTime']=import_dt\n",
    "    \n",
    "    print(dfCSV.info())\n",
    "    print(dfCSV.head(10))\n",
    "    print(dfCSV.tail(10))\n",
    "    \n",
    "    # for symbol in  dfCSV['Symbol'].unique():\n",
    "    #      dfBySymbol=dfCSV.query(f'Symbol==@symbol')\n",
    "    #      dfBySymbol.tail(10).to_csv(f\"{symbol}-TA.csv\",index=False)\n",
    "\n",
    "    \n",
    "    importDataToBQ(dfCSV)"
   ]
  },
  {
   "cell_type": "markdown",
   "id": "f8ed8ca7-8907-4961-9f33-e3ec8fe7d531",
   "metadata": {},
   "source": [
    "# Load recent data from Yahoo"
   ]
  },
  {
   "cell_type": "code",
   "execution_count": 44,
   "id": "167dc58e-60a4-48f8-8081-144deb063655",
   "metadata": {},
   "outputs": [
    {
     "name": "stdout",
     "output_type": "stream",
     "text": [
      "2023-06-09 and  Date<=2023-06-10\n"
     ]
    }
   ],
   "source": [
    "print(f\"{start_date} and  Date<={end_date}\") "
   ]
  },
  {
   "cell_type": "code",
   "execution_count": 53,
   "id": "81eb0732-bc1d-48a6-99ae-7eb00af5d333",
   "metadata": {},
   "outputs": [
    {
     "name": "stdout",
     "output_type": "stream",
     "text": [
      "Load data from Yahoo\n",
      "Empty DataFrame\n",
      "Columns: [Date, Symbol, Close]\n",
      "Index: []\n",
      "QQQ\n",
      "Check already imported data\n",
      "\n",
      "        select * from `pongthorn.FinAssetForecast.fin_data`  \n",
      "        where Date>='2023-06-09' and  Date<'2023-06-10' and Symbol='QQQ' \n",
      "It is about to load  QQQ from 2023-06-09 - 2023-06-10\n",
      "========================================================\n",
      "Load QQQ from 2023-06-09 to 2023-06-10 from yahoo\n",
      "[*********************100%***********************]  1 of 1 completed\n",
      "========================================================\n",
      "==============Transform QQQ price data=============\n",
      "==============Pull QQQ historical price data to calculate TA-Indicatory Feature=============\n",
      "First Row of Yahoo2023-06-09\n",
      "\n",
      "            SELECT Date,Symbol,Close FROM `pongthorn.FinAssetForecast.fin_data` \n",
      "            Where  Date between  DATE_SUB(DATE '2023-06-09', INTERVAL 45 Day) and '2023-06-09' \n",
      "            and Symbol='QQQ' order by Date,ImportDateTime\n",
      "            \n",
      "          Date Symbol   Close\n",
      "0   2023-04-25    QQQ  309.99\n",
      "1   2023-04-26    QQQ  311.87\n",
      "2   2023-04-27    QQQ  320.35\n",
      "3   2023-04-28    QQQ  322.56\n",
      "4   2023-05-01    QQQ  322.19\n",
      "5   2023-05-02    QQQ  319.38\n",
      "6   2023-05-03    QQQ  317.29\n",
      "7   2023-05-04    QQQ  316.17\n",
      "8   2023-05-05    QQQ  322.89\n",
      "9   2023-05-08    QQQ  323.69\n",
      "10  2023-05-09    QQQ  321.64\n",
      "11  2023-05-10    QQQ  325.14\n",
      "12  2023-05-11    QQQ  326.20\n",
      "13  2023-05-12    QQQ  325.03\n",
      "14  2023-05-15    QQQ  326.79\n",
      "15  2023-05-16    QQQ  327.16\n",
      "16  2023-05-17    QQQ  331.12\n",
      "17  2023-05-18    QQQ  337.27\n",
      "18  2023-05-19    QQQ  336.51\n",
      "19  2023-05-22    QQQ  337.64\n",
      "20  2023-05-23    QQQ  333.36\n",
      "21  2023-05-24    QQQ  331.65\n",
      "22  2023-05-25    QQQ  339.72\n",
      "23  2023-05-26    QQQ  348.40\n",
      "24  2023-05-30    QQQ  349.98\n",
      "25  2023-05-31    QQQ  347.99\n",
      "26  2023-06-01    QQQ  352.01\n",
      "27  2023-06-02    QQQ  354.65\n",
      "28  2023-06-05    QQQ  354.90\n",
      "29  2023-06-06    QQQ  354.84\n",
      "30  2023-06-07    QQQ  348.82\n",
      "31  2023-06-08    QQQ  353.15\n",
      "Append historical data over the past N day and recent data\n",
      "No 33 past data+current to calculate TA-Indicator\n",
      "         Date Symbol   Close      EMA1      EMA2    MACD  SIGNAL\n",
      "0  2023-04-25    QQQ  309.99  309.9900  309.9900  0.0000  0.0000\n",
      "1  2023-04-26    QQQ  311.87  310.3318  310.1690  0.1628  0.0203\n",
      "2  2023-04-27    QQQ  320.35  312.1533  311.1387  1.0146  0.1446\n",
      "3  2023-04-28    QQQ  322.56  314.0454  312.2264  1.8190  0.3539\n",
      "4  2023-05-01    QQQ  322.19  315.5263  313.1753  2.3509  0.6036\n",
      "5  2023-05-02    QQQ  319.38  316.2269  313.7662  2.4607  0.8357\n",
      "6  2023-05-03    QQQ  317.29  316.4202  314.1018  2.3184  1.0210\n",
      "7  2023-05-04    QQQ  316.17  316.3747  314.2988  2.0759  1.1529\n",
      "8  2023-05-05    QQQ  322.89  317.5593  315.1170  2.4423  1.3141\n",
      "9  2023-05-08    QQQ  323.69  318.6740  315.9335  2.7405  1.4924\n",
      "10 2023-05-09    QQQ  321.64  319.2133  316.4770  2.7363  1.6479\n",
      "11 2023-05-10    QQQ  325.14  320.2909  317.3020  2.9888  1.8155\n",
      "12 2023-05-11    QQQ  326.20  321.3652  318.1494  3.2158  1.9905\n",
      "13 2023-05-12    QQQ  325.03  322.0316  318.8047  3.2268  2.1451\n",
      "14 2023-05-15    QQQ  326.79  322.8967  319.5652  3.3315  2.2934\n",
      "15 2023-05-16    QQQ  327.16  323.6719  320.2885  3.3833  2.4296\n",
      "16 2023-05-17    QQQ  331.12  325.0261  321.3201  3.7060  2.5892\n",
      "17 2023-05-18    QQQ  337.27  327.2522  322.8392  4.4131  2.8171\n",
      "18 2023-05-19    QQQ  336.51  328.9355  324.1411  4.7943  3.0643\n",
      "19 2023-05-22    QQQ  337.64  330.5181  325.4267  5.0914  3.3177\n",
      "20 2023-05-23    QQQ  333.36  331.0348  326.1823  4.8525  3.5095\n",
      "21 2023-05-24    QQQ  331.65  331.1467  326.7030  4.4436  3.6263\n",
      "22 2023-05-25    QQQ  339.72  332.7055  327.9427  4.7627  3.7684\n",
      "23 2023-05-26    QQQ  348.40  335.5590  329.8910  5.6680  4.0058\n",
      "24 2023-05-30    QQQ  349.98  338.1810  331.8043  6.3767  4.3022\n",
      "25 2023-05-31    QQQ  347.99  339.9645  333.3458  6.6187  4.5917\n",
      "26 2023-06-01    QQQ  352.01  342.1546  335.1233  7.0312  4.8967\n",
      "27 2023-06-02    QQQ  354.65  344.4265  336.9830  7.4435  5.2150\n",
      "28 2023-06-05    QQQ  354.90  346.3307  338.6894  7.6414  5.5183\n",
      "29 2023-06-06    QQQ  354.84  347.8779  340.2275  7.6503  5.7848\n",
      "30 2023-06-07    QQQ  348.82  348.0492  341.0459  7.0033  5.9371\n",
      "31 2023-06-08    QQQ  353.15  348.9766  342.1986  6.7780  6.0422\n",
      "32 2023-06-09    QQQ  354.50  349.9809  343.3702  6.6106  6.1133\n",
      "<class 'pandas.core.frame.DataFrame'>\n",
      "Int64Index: 33 entries, 0 to 32\n",
      "Data columns (total 7 columns):\n",
      " #   Column  Non-Null Count  Dtype         \n",
      "---  ------  --------------  -----         \n",
      " 0   Date    33 non-null     datetime64[ns]\n",
      " 1   Symbol  33 non-null     object        \n",
      " 2   Close   33 non-null     float64       \n",
      " 3   EMA1    33 non-null     float64       \n",
      " 4   EMA2    33 non-null     float64       \n",
      " 5   MACD    33 non-null     float64       \n",
      " 6   SIGNAL  33 non-null     float64       \n",
      "dtypes: datetime64[ns](1), float64(5), object(1)\n",
      "memory usage: 2.1+ KB\n",
      "None\n",
      "========================================================\n",
      "Filter out only recent data inluded TA-Feature\n",
      "         Date Symbol  Close      EMA1      EMA2    MACD  SIGNAL\n",
      "32 2023-06-09    QQQ  354.5  349.9809  343.3702  6.6106  6.1133\n",
      "========================================================\n",
      "<class 'pandas.core.frame.DataFrame'>\n",
      "Int64Index: 1 entries, 32 to 32\n",
      "Data columns (total 8 columns):\n",
      " #   Column          Non-Null Count  Dtype              \n",
      "---  ------          --------------  -----              \n",
      " 0   Date            1 non-null      datetime64[ns]     \n",
      " 1   Symbol          1 non-null      object             \n",
      " 2   Close           1 non-null      float64            \n",
      " 3   EMA1            1 non-null      float64            \n",
      " 4   EMA2            1 non-null      float64            \n",
      " 5   MACD            1 non-null      float64            \n",
      " 6   SIGNAL          1 non-null      float64            \n",
      " 7   ImportDateTime  1 non-null      datetime64[ns, UTC]\n",
      "dtypes: datetime64[ns, UTC](1), datetime64[ns](1), float64(5), object(1)\n",
      "memory usage: 72.0+ bytes\n",
      "None\n",
      "         Date Symbol  Close      EMA1      EMA2    MACD  SIGNAL  \\\n",
      "32 2023-06-09    QQQ  354.5  349.9809  343.3702  6.6106  6.1133   \n",
      "\n",
      "                     ImportDateTime  \n",
      "32 2023-06-10 09:51:02.956363+00:00  \n"
     ]
    },
    {
     "name": "stderr",
     "output_type": "stream",
     "text": [
      "C:\\Users\\pongthsa\\AppData\\Local\\Temp\\ipykernel_1012\\3638361569.py:57: FutureWarning: Comparison of Timestamp with datetime.date is deprecated in order to match the standard library behavior. In a future version these will be considered non-comparable. Use 'ts == pd.Timestamp(date)' or 'ts.date() == date' instead.\n",
      "  dfx=dfx.drop_duplicates(subset=['Date','Symbol'],keep='last')\n"
     ]
    },
    {
     "name": "stdout",
     "output_type": "stream",
     "text": [
      "yahoo-Total 1  Add transaction to pongthorn.FinAssetForecast.fin_data bigquery successfully\n"
     ]
    }
   ],
   "source": [
    "if source=='yahoo':\n",
    "    \n",
    "    print(\"Load data from Yahoo\")\n",
    "    \n",
    "    dfMain=pd.DataFrame(columns=list_cols)\n",
    "    print(dfMain)\n",
    "\n",
    "    for symbol in symbol_list:\n",
    "        print(symbol)\n",
    "        \n",
    "        print(\"Check already imported data\")\n",
    "        sqlLastItem=f\"\"\"\n",
    "        select * from `{table_data_id}`  \n",
    "        where Date>='{start_date}' and  Date<'{end_date}' and Symbol='{symbol}' \"\"\"\n",
    "        print(sqlLastItem)\n",
    "        \n",
    "        dfLastItem=load_data_bq(sqlLastItem)\n",
    "        if dfLastItem.empty==False:\n",
    "            print(f\"Found {symbol} from {start_date} - {end_date} already\")\n",
    "            continue\n",
    "            #return f\"Found {symbol} from {start_date} - {end_date} already\"\n",
    "        else:\n",
    "            print(f\"It is about to load  {symbol} from {start_date} - {end_date}\")\n",
    "        print(f\"========================================================\")    \n",
    "                \n",
    "        print(f\"Load {symbol} from {start_date} to {end_date} from yahoo\")\n",
    "        dfx=yf.download(tickers=symbol,start=start_date,end=end_date)\n",
    "        # print(dfx)\n",
    "        print(f\"========================================================\")\n",
    "        \n",
    "        if dfx.empty==False:\n",
    "            print(f\"==============Transform {symbol} price data=============\")  \n",
    "            dfx.reset_index(drop=False,inplace=True)  \n",
    "            dfx['Symbol']=symbol\n",
    "            dfx=dfx[['Date','Symbol','Close']] \n",
    "            # print(dfx)\n",
    "\n",
    "            \n",
    "            print(f\"==============Pull {symbol} historical price data to calculate TA-Indicatory Feature=============\")  \n",
    "            minDate=dfx['Date'].min().strftime(\"%Y-%m-%d\")\n",
    "            print(\"First Row of Yahoo\"+minDate)\n",
    "            sqlX=f\"\"\"\n",
    "            SELECT Date,Symbol,Close FROM `{table_data_id}` \n",
    "            Where  Date between  DATE_SUB(DATE '{minDate}', INTERVAL {nLastToIndy} Day) and '{minDate}' \n",
    "            and Symbol='{symbol}' order by Date,ImportDateTime\n",
    "            \"\"\"\n",
    "            print(sqlX)\n",
    "            \n",
    "            dfHist=load_data_bq(sqlX)      \n",
    "            print(dfHist)\n",
    "\n",
    "            print(\"Append historical data over the past N day and recent data\")\n",
    "            dfx=pd.concat([dfHist,dfx],axis=0,ignore_index=True)           \n",
    "            # print(dfx)\n",
    "              \n",
    "            print(f\"No {len(dfx)} past data+current to calculate TA-Indicator\")\n",
    "            dfx=dfx.drop_duplicates(subset=['Date','Symbol'],keep='last')\n",
    "            dfx['Date']=pd.to_datetime(dfx['Date'],format='%Y-%m-%d')\n",
    "\n",
    "            dfx=build_indicator_feature(dfx)\n",
    "\n",
    "            print(dfx)\n",
    "            print(dfx.info())   \n",
    "            print(f\"========================================================\")\n",
    "\n",
    "            print(\"Filter out only recent data inluded TA-Feature\") \n",
    "            dfx=dfx[dfx.Date.between(start_date, end_date)]\n",
    "            dfx = dfx.query('Date >= @start_date and Date < @end_date')\n",
    "            print(dfx)\n",
    "            print(f\"========================================================\")\n",
    "            \n",
    "            dfMain=pd.concat([dfMain,dfx])\n",
    "            \n",
    "\n",
    "        else:\n",
    "          msg=f\"Not found {symbol} OR No data between {start_date} and {end_date}\"\n",
    "          print(msg)\n",
    "          #return  msg\n",
    "        \n",
    "    #Ingest to BQ \n",
    "    if dfMain.empty==False:\n",
    "    \n",
    "        dfMain['ImportDateTime']=import_dt\n",
    "        #dfMain['ImportDateTime']=dfMain['ImportDateTime'].dt.tz_localize('utc').dt.tz_convert(my_tz)\n",
    "        \n",
    "        print(dfMain.info())\n",
    "        print(dfMain)\n",
    "        importDataToBQ(dfMain)"
   ]
  },
  {
   "cell_type": "code",
   "execution_count": 47,
   "id": "a0ee02a6-209d-4d83-874b-2c4d517ee2e4",
   "metadata": {},
   "outputs": [],
   "source": [
    "# return 'OK'\n"
   ]
  },
  {
   "cell_type": "markdown",
   "id": "c7045cf5-d5c9-4e32-a7e9-aa6e9c831dfd",
   "metadata": {},
   "source": [
    "# Visualize Chart "
   ]
  },
  {
   "cell_type": "code",
   "execution_count": 54,
   "id": "68cead60-0177-4fee-a513-fb229323fbb4",
   "metadata": {},
   "outputs": [
    {
     "name": "stdout",
     "output_type": "stream",
     "text": [
      "\n",
      "SELECT * FROM `pongthorn.FinAssetForecast.fin_data` \n",
      "where (Date>='2023-04-25' and Date<='2023-06-10')\n",
      "and Symbol='QQQ'\n",
      "\n",
      "           Symbol   Close      EMA1      EMA2    MACD  SIGNAL  \\\n",
      "Date                                                            \n",
      "2023-06-05    QQQ  354.90  346.3513  338.9626  7.3886  5.1580   \n",
      "2023-06-06    QQQ  354.84  347.8947  340.4748  7.4199  5.4407   \n",
      "2023-06-07    QQQ  348.82  348.0629  341.2696  6.7934  5.6098   \n",
      "2023-06-08    QQQ  353.15  348.9878  342.4010  6.5868  5.7319   \n",
      "2023-06-09    QQQ  354.50  349.9809  343.3702  6.6106  6.1133   \n",
      "\n",
      "                       ImportDateTime  \n",
      "Date                                   \n",
      "2023-06-05 2023-06-10 07:29:51.356192  \n",
      "2023-06-06 2023-06-10 07:29:51.356192  \n",
      "2023-06-07 2023-06-10 07:29:51.356192  \n",
      "2023-06-08 2023-06-10 07:29:51.356192  \n",
      "2023-06-09 2023-06-10 09:51:02.956363  \n"
     ]
    },
    {
     "data": {
      "image/png": "[encoded data removed]",
      "text/plain": [
       "<Figure size 2000x1000 with 2 Axes>"
      ]
     },
     "metadata": {},
     "output_type": "display_data"
    }
   ],
   "source": [
    "import matplotlib.pyplot as plt\n",
    "import matplotlib.dates as mdates\n",
    "import seaborn as sns\n",
    "startPriceData='2023-04-25'  \n",
    "endPriceData=datetime.now().strftime('%Y-%m-%d')\n",
    "asset_name='QQQ'\n",
    "\n",
    "sqlData=f\"\"\"\n",
    "SELECT * FROM `pongthorn.FinAssetForecast.fin_data` \n",
    "where (Date>='{startPriceData}' and Date<='{endPriceData}')\n",
    "and Symbol='{asset_name}'\n",
    "\"\"\"\n",
    "print(sqlData)\n",
    "\n",
    "dfData=load_data_bq(sqlData)\n",
    "dfData=dfData.set_index('Date')\n",
    "dfData=dfData.sort_index()\n",
    "print(dfData.tail(5))\n",
    "\n",
    "plt.subplots(2, 1, figsize = (20, 10),sharex=True)\n",
    "\n",
    "ax1 = plt.subplot(2, 1, 1)\n",
    "plt.plot(dfData.index,dfData[['Close','EMA1','EMA2']])\n",
    "plt.ylabel('Price & EMA')\n",
    "\n",
    "ax2 = plt.subplot(2, 1, 2)\n",
    "plt.plot(dfData.index,dfData[['MACD','SIGNAL']])\n",
    "plt.xlabel('Date')\n",
    "plt.ylabel('MACD & Signal')\n",
    "\n",
    "plt.show()"
   ]
  },
  {
   "cell_type": "code",
   "execution_count": null,
   "id": "b2071dd8-aec8-4bdf-a2a6-35adce978e1b",
   "metadata": {},
   "outputs": [],
   "source": []
  }
 ],
 "metadata": {
  "kernelspec": {
   "display_name": "Python 3 (ipykernel)",
   "language": "python",
   "name": "python3"
  },
  "language_info": {
   "codemirror_mode": {
    "name": "ipython",
    "version": 3
   },
   "file_extension": ".py",
   "mimetype": "text/x-python",
   "name": "python",
   "nbconvert_exporter": "python",
   "pygments_lexer": "ipython3",
   "version": "3.9.16"
  }
 },
 "nbformat": 4,
 "nbformat_minor": 5
}
