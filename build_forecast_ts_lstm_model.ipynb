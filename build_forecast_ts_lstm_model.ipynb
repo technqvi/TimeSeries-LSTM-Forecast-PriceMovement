{
 "cells": [
  {
   "cell_type": "code",
   "execution_count": 140,
   "metadata": {
    "tags": []
   },
   "outputs": [
    {
     "name": "stdout",
     "output_type": "stream",
     "text": [
      "Tensorflow Version: 2.12.0\n",
      "Bigquery Version: 3.11.4\n",
      "Pandas Version: 1.5.3\n",
      "Scikit-Learn Version: 1.2.1\n",
      "Keras Tuner: 1.3.5\n"
     ]
    }
   ],
   "source": [
    "import numpy as np \n",
    "import pandas as pd \n",
    "\n",
    "import math \n",
    "from datetime import date, timedelta, datetime \n",
    "import time\n",
    "import os\n",
    "\n",
    "from pandas.plotting import register_matplotlib_converters \n",
    "import matplotlib.pyplot as plt\n",
    "import matplotlib.dates as mdates \n",
    "import seaborn as sns\n",
    "\n",
    "import sklearn\n",
    "from sklearn.preprocessing import  MinMaxScaler \n",
    "\n",
    "from sklearn.metrics import mean_absolute_error, mean_squared_error \n",
    "\n",
    "import tensorflow as tf\n",
    "from tensorflow.keras.models import Sequential \n",
    "from tensorflow.keras.layers import LSTM, Dense, Dropout \n",
    "from tensorflow.keras.callbacks import EarlyStopping \n",
    "from tensorflow.keras import backend\n",
    "\n",
    "from tensorflow.keras.models import load_model\n",
    "import joblib\n",
    "\n",
    "import keras_tuner as kt\n",
    "from keras_tuner.engine.hyperparameters import HyperParameters\n",
    "\n",
    "\n",
    "from google.cloud import bigquery\n",
    "from google.oauth2 import service_account\n",
    "\n",
    "  \n",
    "print('Tensorflow Version: ' + tf.__version__)\n",
    "print('Bigquery Version: ' + bigquery.__version__)\n",
    "print('Pandas Version: ' + pd.__version__)\n",
    "print('Scikit-Learn Version: ' + sklearn.__version__)\n",
    "print('Keras Tuner: '+ kt.__version__)\n",
    "\n"
   ]
  },
  {
   "cell_type": "code",
   "execution_count": 141,
   "metadata": {},
   "outputs": [
    {
     "name": "stdout",
     "output_type": "stream",
     "text": [
      "The tensorboard extension is already loaded. To reload it, use:\n",
      "  %reload_ext tensorboard\n"
     ]
    }
   ],
   "source": [
    "# Load the TensorBoard notebook extension.\n",
    "%load_ext tensorboard\n",
    "#%reload_ext tensorboard"
   ]
  },
  {
   "cell_type": "markdown",
   "metadata": {},
   "source": [
    "# Reference Document"
   ]
  },
  {
   "cell_type": "markdown",
   "metadata": {},
   "source": [
    "* [https://www.relataly.com/stock-price-prediction-multi-output-regression-using-neural-networks-in-python/5800/](https://www.relataly.com/stock-price-prediction-multi-output-regression-using-neural-networks-in-python/5800/)\n",
    "* [https://www.relataly.com/univariate-stock-market-forecasting-using-a-recurrent-neural-network/122/](https://www.relataly.com/univariate-stock-market-forecasting-using-a-recurrent-neural-network/122/)\n",
    "* [https://www.relataly.com/stock-market-prediction-using-multivariate-time-series-in-python/1815/](https://www.relataly.com/stock-market-prediction-using-multivariate-time-series-in-python/1815/)\n",
    "* [https://www.relataly.com/regression-error-metrics-python/923/](https://www.relataly.com/regression-error-metrics-python/923/)\n",
    "* [https://keras.io/guides/keras_tuner/getting_started/](https://keras.io/guides/keras_tuner/getting_started/)\n",
    "* [https://www.tensorflow.org/tutorials/keras/keras_tuner] (https://www.tensorflow.org/tutorials/keras/keras_tuner)\n",
    "* [https://machinelearningmastery.com/how-to-develop-lstm-models-for-time-series-forecasting/](https://machinelearningmastery.com/how-to-develop-lstm-models-for-time-series-forecasting/)\n",
    "* [http://colah.github.io/posts/2015-08-Understanding-LSTMs/](http://colah.github.io/posts/2015-08-Understanding-LSTMs/)\n",
    "* [Determining the Right Batch Size for a Neural Network to Get Better and Faster Results](https://medium.com/data-science-365/determining-the-right-batch-size-for-a-neural-network-to-get-better-and-faster-results-7a8662830f15#:~:text=Default%20value%20%3D%2032&text=This%20is%20because%20the%20batch,%2C%20256%2C%20512%20and%201024!)"
   ]
  },
  {
   "cell_type": "markdown",
   "metadata": {},
   "source": [
    "# My Ref\n",
    "* https://github.com/technqvi/SMart-AI/blob/main/Model-TF_Keras/DNN-1-TF-KerasProcessing/multi_train_dnn1_incident.ipynb\n",
    "* https://github.com/technqvi/SMart-AI/blob/main/Model-TF_Keras/DNN-1-TF-KerasProcessing/multi_tuned_dnn1_incident.ipynb\n",
    "\n",
    "* https://keras.io/guides/keras_tuner/getting_started/\n",
    "* https://www.tensorflow.org/tutorials/keras/keras_tuner  by Hyperband tuner\n",
    "* https://medium.com/swlh/hyperparameter-tuning-in-keras-tensorflow-2-with-keras-tuner-randomsearch-hyperband-3e212647778f\n"
   ]
  },
  {
   "cell_type": "code",
   "execution_count": 144,
   "metadata": {
    "tags": []
   },
   "outputs": [
    {
     "name": "stdout",
     "output_type": "stream",
     "text": [
      "train_data/SPY_M0115-1123.csv\n"
     ]
    }
   ],
   "source": [
    "start_date='2015-01-01'  #'2015-01-01' \n",
    "end_date='2023-11-15'\n",
    "asset_name='SPY'   \n",
    "\n",
    "# univaiate  (single feature)\n",
    "prediction_col='EMA1'\n",
    "feature_cols=['EMA1']\n",
    "\n",
    "# multpvaric (nultiple features)\n",
    "# prediction_col='Close'\n",
    "# feature_cols=[prediction_col,'EMA1','EMA2','MACD','SIGNAL']\n",
    "\n",
    "strStartMY=datetime.strptime(start_date,\"%Y-%m-%d\").strftime(\"%m%y\")\n",
    "strEndMY=datetime.strptime(end_date,\"%Y-%m-%d\").strftime(\"%m%y\")\n",
    "period_str=f\"M{strStartMY}-{strEndMY}\"\n",
    "data_path=f\"train_data/{asset_name}_{period_str}.csv\"\n",
    "print(data_path)\n",
    "\n",
    "tsb_path=\"tsb_logs/tune/\""
   ]
  },
  {
   "cell_type": "markdown",
   "metadata": {},
   "source": [
    "# Load the Data from  BigQuery To Create TrainData as CSV File "
   ]
  },
  {
   "cell_type": "code",
   "execution_count": 145,
   "metadata": {
    "tags": []
   },
   "outputs": [
    {
     "name": "stdout",
     "output_type": "stream",
     "text": [
      "pongthorn.FinAssetForecast.fin_data\n",
      "Load csv train_data/SPY_M0115-1123.csv\n"
     ]
    }
   ],
   "source": [
    "projectId=\"pongthorn\"\n",
    "dataset_id='FinAssetForecast'\n",
    "table_data_id=f\"{projectId}.{dataset_id}.fin_data\"\n",
    "print(table_data_id)\n",
    "\n",
    "client = bigquery.Client(project=projectId )\n",
    "\n",
    "def load_data_bq(sql:str):\n",
    " query_result=client.query(sql)\n",
    " df=query_result.to_dataframe()\n",
    " return df\n",
    "\n",
    "\n",
    "\n",
    "if  os.path.exists(data_path)==False:\n",
    "    sqlData=f\"\"\"\n",
    "     select * from  `{table_data_id}` where Symbol='{asset_name}' and (Date>='{start_date}' and Date<='{end_date}')\n",
    "    \"\"\"\n",
    "    print(sqlData)\n",
    "    df=load_data_bq(sqlData)\n",
    "    df=df.sort_values(by=\"Date\")\n",
    "    df=df.drop_duplicates(subset=['Date','Symbol'],keep='last')\n",
    "    df=df.drop(columns=['ImportDateTime'])\n",
    "    df.to_csv(data_path,index=False)\n",
    "    print(df.info())\n",
    "    print(\"Load Data from BigQuery and Save it as csv.\")\n",
    "else:\n",
    "    print(f\"Load csv {data_path}\")"
   ]
  },
  {
   "cell_type": "markdown",
   "metadata": {},
   "source": [
    "# Init ML Constant Variable"
   ]
  },
  {
   "cell_type": "code",
   "execution_count": 146,
   "metadata": {
    "tags": []
   },
   "outputs": [
    {
     "name": "stdout",
     "output_type": "stream",
     "text": [
      "EMA1_60To10_SPY_E200S20B32-M0115-1123\n",
      "EMA1_60To10_SPY_E200S20B32\n"
     ]
    }
   ],
   "source": [
    "date_col='Date'\n",
    "\n",
    "main_obj_metric='mean_absolute_error'\n",
    "main_loss='mean_absolute_error'\n",
    "\n",
    "\n",
    "input_sequence_length=60 #60  #60 #120\n",
    "output_sequence_length =10  #10  # 10 #20\n",
    "train_ratio=0.8\n",
    "\n",
    "n_epochs =200  #250  #50 #100/150/200/250/300\n",
    "n_batch_size = 32  # 16/32/64\n",
    "\n",
    "n_early=int(n_epochs/10) #21\n",
    "\n",
    "seed=88\n",
    "\n",
    "#Tuning\n",
    "\n",
    "neuron_number=0 # \n",
    "#if >0 , we recommend  initializing 32,64,128 but it should be more that input_sequence_length * no_feature (60x1) \n",
    "# else 0, we use  input_sequence_length * no_feature (60x1)\n",
    "\n",
    "opitmizer_algo=\"hypterband\"  # bayesian=1 or hypterband=2\n",
    "\n",
    "# number of unit node in hidden laryer\n",
    "mx_step=4 # 6# 2,3,5,10\n",
    "mxMultipleStep=1  # double trail\n",
    "nExecutions_per_trial=3  #5 #3  #averger re-run on 1 trail \n",
    "\n",
    "# dropout rate\n",
    "min_drop=0.0\n",
    "max_drop=0.2  #0.2 #0.1 0.2  0.5\n",
    "step_drop=0.1\n",
    "\n",
    "# learingRatelist= [0.1,0.01,0.001,0.0001]\n",
    "learingRatelist= [0.1,0.01,0.001]\n",
    "# min_rl=1e-3 #1e-4\n",
    "# max_rl=1e-2\n",
    "# no_rl=2\n",
    "\n",
    "defaultMaxTrail=10\n",
    "\n",
    "ratio_traial_max= 1 #0.5 0.7/0.8/1\n",
    "\n",
    "model_path='train_model'\n",
    "\n",
    "tune_folder=f'{prediction_col}_{input_sequence_length}To{output_sequence_length}_{asset_name}_E{n_epochs}S{n_early}B{n_batch_size}'\n",
    "\n",
    "\n",
    "\n",
    "modelName=f\"{tune_folder}-{period_str}\"\n",
    "\n",
    "print(modelName)\n",
    "print(tune_folder)\n"
   ]
  },
  {
   "cell_type": "markdown",
   "metadata": {},
   "source": [
    "# Read Train Data"
   ]
  },
  {
   "cell_type": "code",
   "execution_count": 147,
   "metadata": {
    "tags": []
   },
   "outputs": [
    {
     "name": "stdout",
     "output_type": "stream",
     "text": [
      "        EMA1\n",
      "0   451.6515\n",
      "1   451.4733\n",
      "2   450.9747\n",
      "3   450.0247\n",
      "4   449.2766\n",
      "..       ...\n",
      "67  429.3175\n",
      "68  431.3623\n",
      "69  432.9695\n",
      "70  435.8347\n",
      "71  438.3520\n",
      "\n",
      "[72 rows x 1 columns]\n",
      "<class 'pandas.core.frame.DataFrame'>\n",
      "Index: 2233 entries, 2015-01-02 to 2023-11-15\n",
      "Data columns (total 1 columns):\n",
      " #   Column  Non-Null Count  Dtype  \n",
      "---  ------  --------------  -----  \n",
      " 0   EMA1    2233 non-null   float64\n",
      "dtypes: float64(1)\n",
      "memory usage: 34.9+ KB\n",
      "None\n",
      "['EMA1']\n"
     ]
    }
   ],
   "source": [
    "df=pd.read_csv(data_path)\n",
    "df.drop(columns=['Symbol'],inplace=True)\n",
    "\n",
    "print(df.tail(input_sequence_length+output_sequence_length+2).reset_index(drop=True)[feature_cols])\n",
    "\n",
    "df.set_index(date_col,inplace=True)\n",
    "df=df[feature_cols]\n",
    "print(df.info())\n",
    "\n",
    "allCols=list(df.columns)\n",
    "print(allCols)\n",
    "\n"
   ]
  },
  {
   "cell_type": "markdown",
   "metadata": {},
   "source": [
    "# Exploring the Data"
   ]
  },
  {
   "cell_type": "code",
   "execution_count": 148,
   "metadata": {
    "tags": []
   },
   "outputs": [
    {
     "data": {
      "image/png": "[encoded data removed]",
      "text/plain": [
       "<Figure size 1500x1500 with 1 Axes>"
      ]
     },
     "metadata": {},
     "output_type": "display_data"
    }
   ],
   "source": [
    "ncols = 1\n",
    "nrows = len(feature_cols)\n",
    "fig, ax = plt.subplots(nrows=nrows, ncols=ncols, sharex=True, figsize=(15, 15))\n",
    "for i, ax in enumerate(fig.axes):\n",
    "        sns.lineplot(data = df.iloc[:, i], ax=ax)\n",
    "        ax.tick_params(axis=\"x\", rotation=30, labelsize=10, length=0)\n",
    "        ax.xaxis.set_major_locator(mdates.AutoDateLocator())\n",
    "        ax.title.set_text(df.columns[i])\n",
    "fig.tight_layout()\n",
    "plt.show()"
   ]
  },
  {
   "cell_type": "code",
   "execution_count": 149,
   "metadata": {
    "tags": []
   },
   "outputs": [],
   "source": [
    "# print(\"Split dataframe to show time-dependent data sequencial sample data point)\")\n",
    "# _dfTrain=df.loc['2015-01-01':'2021-12-31',:]\n",
    "# print(_dfTrain.shape)  \n",
    "# print(_dfTrain.head())\n",
    "# print(_dfTrain.tail())\n",
    "\n",
    "# print(\"=========================================================\")\n",
    "\n",
    "# _dfTest=df.loc['2022':,:]\n",
    "# print(_dfTest.shape)  \n",
    "# print(_dfTest.head())\n",
    "# print(_dfTest.tail())"
   ]
  },
  {
   "cell_type": "markdown",
   "metadata": {},
   "source": [
    "# Get Data Proper To Train Model"
   ]
  },
  {
   "cell_type": "code",
   "execution_count": 150,
   "metadata": {
    "tags": []
   },
   "outputs": [
    {
     "name": "stdout",
     "output_type": "stream",
     "text": [
      "Convert the data to numpy arrays value\n",
      "(2233, 1)\n",
      "(2233, 1)\n",
      "Feature Data (2233, 1)\n",
      "[[206.3589]\n",
      " [205.5155]\n",
      " [204.48  ]]\n",
      "Prediction Data (2233, 1)\n",
      "[[206.3589]\n",
      " [205.5155]\n",
      " [204.48  ]]\n"
     ]
    }
   ],
   "source": [
    "def prepare_data(df):\n",
    "\n",
    "    print(\"Convert the data to numpy arrays value\")\n",
    "    np_feature_unscaled = np.array(df)\n",
    "    np_feature_unscaled = np.reshape(np_feature_unscaled, (df.shape[0], -1))\n",
    "    print(np_feature_unscaled.shape)\n",
    "    \n",
    "    np_pred_unscaled = np.array(df[prediction_col]).reshape(-1, 1)\n",
    "    print(np_pred_unscaled.shape)\n",
    "    \n",
    "    return np_feature_unscaled, np_pred_unscaled\n",
    "\n",
    "np_feature_unscaled, np_pred_unscaled = prepare_data(df)   \n",
    "\n",
    "\n",
    "print(\"Feature Data\",np_feature_unscaled.shape)\n",
    "print(np_feature_unscaled[:3])\n",
    "print(\"Prediction Data\",np_pred_unscaled.shape)\n",
    "print(np_pred_unscaled[:3])"
   ]
  },
  {
   "cell_type": "code",
   "execution_count": 151,
   "metadata": {
    "tags": []
   },
   "outputs": [
    {
     "name": "stdout",
     "output_type": "stream",
     "text": [
      "60 = How far back the model looks back during training to forecast).\n",
      "10 = How far into the future the model forecasts the target value\n",
      "Prediction Index = 0\n"
     ]
    }
   ],
   "source": [
    "print(f\"{input_sequence_length} = How far back the model looks back during training to forecast).\")\n",
    "print(f\"{output_sequence_length} = How far into the future the model forecasts the target value\")\n",
    "\n",
    "#How much ratio to split\n",
    "index_Prediction = df.columns.get_loc(prediction_col)\n",
    "print(f\"Prediction Index = {index_Prediction}\")\n",
    "\n"
   ]
  },
  {
   "cell_type": "code",
   "execution_count": 152,
   "metadata": {
    "tags": []
   },
   "outputs": [
    {
     "name": "stdout",
     "output_type": "stream",
     "text": [
      "0.8 = 1787 Split the training data into train and train data sets\n"
     ]
    }
   ],
   "source": [
    "# As a first step, we get the number of rows to train the model on 80% of the data \n",
    "train_data_length = math.ceil(np_feature_unscaled.shape[0] * train_ratio)\n",
    "print(f\"{train_ratio} = {train_data_length} Split the training data into train and train data sets\")"
   ]
  },
  {
   "cell_type": "code",
   "execution_count": 153,
   "metadata": {
    "tags": []
   },
   "outputs": [
    {
     "name": "stdout",
     "output_type": "stream",
     "text": [
      "Target value column data disttribution\n"
     ]
    },
    {
     "data": {
      "text/plain": [
       "<AxesSubplot: ylabel='Frequency'>"
      ]
     },
     "execution_count": 153,
     "metadata": {},
     "output_type": "execute_result"
    },
    {
     "data": {
      "image/png": "[encoded data removed]",
      "text/plain": [
       "<Figure size 1000x800 with 1 Axes>"
      ]
     },
     "metadata": {},
     "output_type": "display_data"
    }
   ],
   "source": [
    "print(\"Target value column data disttribution\")\n",
    "df[prediction_col].plot.hist(figsize=(10, 8))\n"
   ]
  },
  {
   "cell_type": "code",
   "execution_count": 154,
   "metadata": {
    "tags": []
   },
   "outputs": [
    {
     "name": "stdout",
     "output_type": "stream",
     "text": [
      "Scale feature and prediction to a range Max-Min between 0 and 1\n",
      "Split data and apply only train to scale\n",
      "Train Data to be scaled(feature and prediction)\n",
      "(1787, 1) (1787, 1)\n",
      "[[206.3589]\n",
      " [205.5155]\n",
      " [204.48  ]\n",
      " [204.0854]\n",
      " [204.4153]]\n",
      "[[206.3589]\n",
      " [205.5155]\n",
      " [204.48  ]\n",
      " [204.0854]\n",
      " [204.4153]]\n",
      "For predict test that take the past 60 train value to predict the first test value\n",
      "==============Scaler Object For Features=================\n",
      "1 features are scaled in range 0-1 such as ['EMA1']\n",
      "Max:[473.9935] -  Min:[187.0927]\n",
      "==============Scaler Object For Prediction Target Value=================\n",
      "1 pred col is scaled in range 0-1 such as EMA1\n",
      "Max:[473.9935] -  Min:[187.0927]\n",
      "=========================================\n",
      "Scaled data completely\n",
      "Scaled train and test data\n",
      "(1787, 1) (506, 1)\n",
      "[[0.06715283]\n",
      " [0.06421314]\n",
      " [0.06060387]\n",
      " [0.05922849]\n",
      " [0.06037836]]\n",
      "[[0.96285336]\n",
      " [0.96312837]\n",
      " [0.96557138]\n",
      " [0.9676714 ]\n",
      " [0.9705623 ]]\n",
      "=========================================\n",
      "Scale Prediction data (Scaled from Train data)\n",
      "(1787, 1)\n",
      "[[0.06715283]\n",
      " [0.06421314]\n",
      " [0.06060387]\n",
      " [0.05922849]\n",
      " [0.06037836]]\n"
     ]
    }
   ],
   "source": [
    "print(\"Scale feature and prediction to a range Max-Min between 0 and 1\")\n",
    "scaler_train = MinMaxScaler()\n",
    "scaler_pred = MinMaxScaler()\n",
    "\n",
    "\n",
    "print(\"Split data and apply only train to scale\")\n",
    "\n",
    "train_data = np_feature_unscaled[0:train_data_length, :]\n",
    "test_data = np_feature_unscaled[train_data_length - input_sequence_length:, :]\n",
    "\n",
    "np_PredictVal_unScaled=np_pred_unscaled[0:train_data_length]\n",
    "\n",
    "print(\"Train Data to be scaled(feature and prediction)\") \n",
    "print(train_data.shape,np_PredictVal_unScaled.shape)\n",
    "print(train_data[:5])\n",
    "print(np_PredictVal_unScaled[:5])\n",
    "\n",
    "train_data=scaler_train.fit_transform(train_data)\n",
    "test_data=scaler_train.transform(test_data)\n",
    "\n",
    "print(f\"For predict test that take the past {input_sequence_length} train value to predict the first test value\")\n",
    "np_scaled=scaler_train.transform(np_feature_unscaled)\n",
    "np_scaled_prediction = scaler_pred.fit_transform(np_PredictVal_unScaled)\n",
    "\n",
    "print(\"==============Scaler Object For Features=================\")  \n",
    "print(f\"{scaler_train.n_features_in_} features are scaled in range 0-1 such as {feature_cols}\")\n",
    "print(f\"Max:{scaler_train.data_max_} -  Min:{scaler_train.data_min_}\")\n",
    "\n",
    "print(\"==============Scaler Object For Prediction Target Value=================\")  \n",
    "print(f\"{scaler_pred.n_features_in_} pred col is scaled in range 0-1 such as {prediction_col}\")\n",
    "print(f\"Max:{scaler_pred.data_max_} -  Min:{scaler_pred.data_min_}\")\n",
    "\n",
    "\n",
    "print(\"=========================================\")       \n",
    "print(\"Scaled data completely\")\n",
    "print(\"Scaled train and test data\")\n",
    "print(train_data.shape,test_data.shape)\n",
    "print(train_data[:5])\n",
    "print(test_data[:5])\n",
    "\n",
    "print(\"=========================================\")  \n",
    "print(\"Scale Prediction data (Scaled from Train data)\")\n",
    "print(np_scaled_prediction.shape)\n",
    "print(np_scaled_prediction[:5])\n",
    "\n"
   ]
  },
  {
   "cell_type": "markdown",
   "metadata": {},
   "source": [
    "# Creating the Input data  as 3 dimension array (samples, time steps, features]\u000b"
   ]
  },
  {
   "cell_type": "code",
   "execution_count": 155,
   "metadata": {
    "tags": []
   },
   "outputs": [
    {
     "name": "stdout",
     "output_type": "stream",
     "text": [
      "The LSTM RNN needs data with the format of [sample rows, time steps, features]\n"
     ]
    }
   ],
   "source": [
    "print(\"The LSTM RNN needs data with the format of [sample rows, time steps, features]\")\n",
    "def partition_dataset(input_sequence_length, output_sequence_length, data):\n",
    "    x, y = [], []\n",
    "    data_len = data.shape[0]\n",
    "    for i in range(input_sequence_length, data_len - output_sequence_length):\n",
    "        x.append(data[i-input_sequence_length:i,:])\n",
    "        y.append(data[i:i + output_sequence_length, index_Prediction]) \n",
    "    \n",
    "    # Convert the x and y to numpy arrays\n",
    "    x = np.array(x)\n",
    "    y = np.array(y)\n",
    "    return x, y"
   ]
  },
  {
   "cell_type": "code",
   "execution_count": 156,
   "metadata": {
    "tags": []
   },
   "outputs": [
    {
     "name": "stdout",
     "output_type": "stream",
     "text": [
      "Here, we create 1787 samples, input_sequence_length time steps per sample, and features\n",
      "Generate training data and test data\n",
      "The shapes: the result is: (rows, training_sequence, features) (prediction value, )\n",
      "(1717, 60, 1) (1717, 10)\n",
      "(436, 60, 1) (436, 10)\n",
      "Use EMA1 samples over the past 60 days to predict the future over the next 10 days\n",
      "[[[0.90577545]\n",
      "  [0.91121914]\n",
      "  [0.91593262]\n",
      "  [0.91850912]\n",
      "  [0.92339268]\n",
      "  [0.92797789]\n",
      "  [0.93223023]\n",
      "  [0.93688794]\n",
      "  [0.94248604]\n",
      "  [0.94845396]\n",
      "  [0.95436367]\n",
      "  [0.95945219]\n",
      "  [0.96263343]\n",
      "  [0.96285336]\n",
      "  [0.96312837]\n",
      "  [0.96557138]\n",
      "  [0.9676714 ]\n",
      "  [0.9705623 ]\n",
      "  [0.97220503]\n",
      "  [0.97455671]\n",
      "  [0.97594848]\n",
      "  [0.97625068]\n",
      "  [0.97689097]\n",
      "  [0.97820675]\n",
      "  [0.97264839]\n",
      "  [0.9716686 ]\n",
      "  [0.96513778]\n",
      "  [0.95658778]\n",
      "  [0.95396492]\n",
      "  [0.94929711]\n",
      "  [0.94888094]\n",
      "  [0.95455433]\n",
      "  [0.95998234]\n",
      "  [0.96241419]\n",
      "  [0.96718622]\n",
      "  [0.96844763]\n",
      "  [0.96744589]\n",
      "  [0.97121409]\n",
      "  [0.97166756]\n",
      "  [0.96786834]\n",
      "  [0.96166096]\n",
      "  [0.96170279]\n",
      "  [0.96467106]\n",
      "  [0.96894397]\n",
      "  [0.97666057]\n",
      "  [0.98272713]\n",
      "  [0.98807706]\n",
      "  [0.99161801]\n",
      "  [0.99375429]\n",
      "  [0.99724539]\n",
      "  [1.        ]\n",
      "  [0.99644267]\n",
      "  [0.99325307]\n",
      "  [0.98947093]\n",
      "  [0.9860091 ]\n",
      "  [0.98586375]\n",
      "  [0.98654971]\n",
      "  [0.98299761]\n",
      "  [0.98021232]\n",
      "  [0.9727174 ]]\n",
      "\n",
      " [[0.91121914]\n",
      "  [0.91593262]\n",
      "  [0.91850912]\n",
      "  [0.92339268]\n",
      "  [0.92797789]\n",
      "  [0.93223023]\n",
      "  [0.93688794]\n",
      "  [0.94248604]\n",
      "  [0.94845396]\n",
      "  [0.95436367]\n",
      "  [0.95945219]\n",
      "  [0.96263343]\n",
      "  [0.96285336]\n",
      "  [0.96312837]\n",
      "  [0.96557138]\n",
      "  [0.9676714 ]\n",
      "  [0.9705623 ]\n",
      "  [0.97220503]\n",
      "  [0.97455671]\n",
      "  [0.97594848]\n",
      "  [0.97625068]\n",
      "  [0.97689097]\n",
      "  [0.97820675]\n",
      "  [0.97264839]\n",
      "  [0.9716686 ]\n",
      "  [0.96513778]\n",
      "  [0.95658778]\n",
      "  [0.95396492]\n",
      "  [0.94929711]\n",
      "  [0.94888094]\n",
      "  [0.95455433]\n",
      "  [0.95998234]\n",
      "  [0.96241419]\n",
      "  [0.96718622]\n",
      "  [0.96844763]\n",
      "  [0.96744589]\n",
      "  [0.97121409]\n",
      "  [0.97166756]\n",
      "  [0.96786834]\n",
      "  [0.96166096]\n",
      "  [0.96170279]\n",
      "  [0.96467106]\n",
      "  [0.96894397]\n",
      "  [0.97666057]\n",
      "  [0.98272713]\n",
      "  [0.98807706]\n",
      "  [0.99161801]\n",
      "  [0.99375429]\n",
      "  [0.99724539]\n",
      "  [1.        ]\n",
      "  [0.99644267]\n",
      "  [0.99325307]\n",
      "  [0.98947093]\n",
      "  [0.9860091 ]\n",
      "  [0.98586375]\n",
      "  [0.98654971]\n",
      "  [0.98299761]\n",
      "  [0.98021232]\n",
      "  [0.9727174 ]\n",
      "  [0.96358149]]\n",
      "\n",
      " [[0.91593262]\n",
      "  [0.91850912]\n",
      "  [0.92339268]\n",
      "  [0.92797789]\n",
      "  [0.93223023]\n",
      "  [0.93688794]\n",
      "  [0.94248604]\n",
      "  [0.94845396]\n",
      "  [0.95436367]\n",
      "  [0.95945219]\n",
      "  [0.96263343]\n",
      "  [0.96285336]\n",
      "  [0.96312837]\n",
      "  [0.96557138]\n",
      "  [0.9676714 ]\n",
      "  [0.9705623 ]\n",
      "  [0.97220503]\n",
      "  [0.97455671]\n",
      "  [0.97594848]\n",
      "  [0.97625068]\n",
      "  [0.97689097]\n",
      "  [0.97820675]\n",
      "  [0.97264839]\n",
      "  [0.9716686 ]\n",
      "  [0.96513778]\n",
      "  [0.95658778]\n",
      "  [0.95396492]\n",
      "  [0.94929711]\n",
      "  [0.94888094]\n",
      "  [0.95455433]\n",
      "  [0.95998234]\n",
      "  [0.96241419]\n",
      "  [0.96718622]\n",
      "  [0.96844763]\n",
      "  [0.96744589]\n",
      "  [0.97121409]\n",
      "  [0.97166756]\n",
      "  [0.96786834]\n",
      "  [0.96166096]\n",
      "  [0.96170279]\n",
      "  [0.96467106]\n",
      "  [0.96894397]\n",
      "  [0.97666057]\n",
      "  [0.98272713]\n",
      "  [0.98807706]\n",
      "  [0.99161801]\n",
      "  [0.99375429]\n",
      "  [0.99724539]\n",
      "  [1.        ]\n",
      "  [0.99644267]\n",
      "  [0.99325307]\n",
      "  [0.98947093]\n",
      "  [0.9860091 ]\n",
      "  [0.98586375]\n",
      "  [0.98654971]\n",
      "  [0.98299761]\n",
      "  [0.98021232]\n",
      "  [0.9727174 ]\n",
      "  [0.96358149]\n",
      "  [0.95293809]]] [[0.96358149 0.95293809 0.93867183 0.92817831 0.9161895  0.9056897\n",
      "  0.89574271 0.89439172 0.89833071 0.90347988]\n",
      " [0.95293809 0.93867183 0.92817831 0.9161895  0.9056897  0.89574271\n",
      "  0.89439172 0.89833071 0.90347988 0.9104816 ]\n",
      " [0.93867183 0.92817831 0.9161895  0.9056897  0.89574271 0.89439172\n",
      "  0.89833071 0.90347988 0.9104816  0.9093976 ]]\n"
     ]
    }
   ],
   "source": [
    "print(f\"Here, we create {len(train_data)} samples, input_sequence_length time steps per sample, and features\")\n",
    "\n",
    "print(\"Generate training data and test data\")\n",
    "x_train, y_train = partition_dataset(input_sequence_length, output_sequence_length, train_data)\n",
    "x_test, y_test = partition_dataset(input_sequence_length, output_sequence_length, test_data)\n",
    "\n",
    "print(\"The shapes: the result is: (rows, training_sequence, features) (prediction value, )\")\n",
    "print(x_train.shape, y_train.shape)\n",
    "print(x_test.shape, y_test.shape)\n",
    "\n",
    "print(f\"Use {prediction_col} samples over the past {input_sequence_length} days to predict the future over the next {output_sequence_length} days\")\n",
    "print(x_train[-3:],y_train[-3:])"
   ]
  },
  {
   "cell_type": "markdown",
   "metadata": {},
   "source": [
    "# Model Training"
   ]
  },
  {
   "cell_type": "markdown",
   "metadata": {},
   "source": [
    "# Paramterter Network"
   ]
  },
  {
   "cell_type": "code",
   "execution_count": 157,
   "metadata": {
    "tags": []
   },
   "outputs": [
    {
     "name": "stdout",
     "output_type": "stream",
     "text": [
      "Keras Tuning Parameter Setting\n",
      "Initialize no.node from backward step x feature = 60 x 1 = 60\n",
      "Train Row : 1717\n",
      "60(backward step) x 1(features) = 60, it is total no.NN  to predict future 10 with Hidden Node Unit from 60 to 240\n",
      "[60, 120, 180, 240] and [0.  0.1 0.2] and [0.1, 0.01, 0.001]\n",
      "all combination : 4 x 3 * 3 = 36\n",
      "MAx run : 36 each trail run to essemble  3\n"
     ]
    }
   ],
   "source": [
    "# Configure the neural network model\n",
    "# tf.random.set_seed(7)\n",
    "print(\"Keras Tuning Parameter Setting\")\n",
    "\n",
    "model = Sequential()\n",
    "n_output_neurons = output_sequence_length\n",
    "  \n",
    "inputshape_Timestamps= x_train.shape[1]\n",
    "no_feature=x_train.shape[2]\n",
    "\n",
    "if  neuron_number==0:\n",
    "  \n",
    " neuron_number =inputshape_Timestamps * no_feature\n",
    " print(f\"Initialize no.node from backward step x feature = {inputshape_Timestamps} x {no_feature} = {neuron_number}\")     \n",
    "else:\n",
    " print(f\"Defined manually no.node ={neuron_number}\")\n",
    "\n",
    "step_neuron=int(neuron_number)\n",
    "max_neuron=int(step_neuron*mx_step)\n",
    "print(f\"Train Row : {x_train.shape[0]}\")\n",
    "print(f\"{inputshape_Timestamps}(backward step) x {no_feature}(features) = {neuron_number}, it is total no.NN  to predict future {n_output_neurons} with Hidden Node Unit from {step_neuron} to {max_neuron}\")\n",
    "    \n",
    "neuron_list = [*range(neuron_number, max_neuron+step_neuron, step_neuron)]\n",
    "\n",
    "drop_list=np.arange (min_drop, max_drop ,step_drop)\n",
    "drop_list=np.append(drop_list,[max_drop])\n",
    "\n",
    "\n",
    "allPosComb=len(neuron_list)*len(drop_list)*len(learingRatelist)\n",
    "print(f\"{neuron_list} and {drop_list} and {learingRatelist}\")\n",
    "print(f\"all combination : {len(neuron_list)} x {len(drop_list)} * {len(learingRatelist)} = {allPosComb}\")\n",
    "\n",
    "nMax_trials=math.ceil(allPosComb*ratio_traial_max)\n",
    "nMax_trials=nMax_trials*mxMultipleStep\n",
    "\n",
    "if nMax_trials<defaultMaxTrail: \n",
    "    nMax_trials=defaultMaxTrail\n",
    "\n",
    "nMax_trials=nMax_trials*1\n",
    "print(\"MAx run :\" ,nMax_trials , \"each trail run to essemble \",nExecutions_per_trial)"
   ]
  },
  {
   "cell_type": "markdown",
   "metadata": {},
   "source": [
    "# NetWork Architeture Model Design"
   ]
  },
  {
   "cell_type": "code",
   "execution_count": 158,
   "metadata": {},
   "outputs": [],
   "source": [
    "def build_model_way(hp):\n",
    "    \n",
    "    model = Sequential()\n",
    "\n",
    "    model.add(LSTM( hp.Int('input_unit',min_value=neuron_number ,max_value=max_neuron,step=step_neuron) \\\n",
    "                   , return_sequences=False, input_shape=(inputshape_Timestamps,no_feature)))\n",
    "    \n",
    "    model.add(Dropout(hp.Float('Dropout_rate',min_value=min_drop,max_value=max_drop,step=step_drop))) \n",
    "    \n",
    "    # model.add(Dropout(hp.Float('Dropout_rate',min_value=min_drop,max_value=max_drop,step=step_drop))) \n",
    "    # model.add(Dropout(hp.Float('Dropout_rate',min_value=min_drop,max_value=max_drop,step=step_drop))\n",
    "        \n",
    "    model.add(Dense(n_output_neurons))\n",
    "    \n",
    "    # hp_learning_rate = hp.Float(\"lr\", min_value=min_rl, max_value=max_rl, sampling=\"log\")\n",
    "    hp_learning_rate = hp.Choice('learning_rate', values=learingRatelist) \n",
    "    model.compile(optimizer=tf.keras.optimizers.Adam(learning_rate=hp_learning_rate), loss=main_loss, metrics=[main_obj_metric])\n",
    "    \n",
    "    # model.compile(optimizer=\"adam\", loss=main_loss, metrics=[main_obj_metric])\n",
    "    return model"
   ]
  },
  {
   "cell_type": "markdown",
   "metadata": {},
   "source": [
    "# Start Tuning "
   ]
  },
  {
   "cell_type": "code",
   "execution_count": 163,
   "metadata": {},
   "outputs": [
    {
     "name": "stdout",
     "output_type": "stream",
     "text": [
      "191123_2239\n",
      "Start tund at 2023-11-19 22:39:32.792351\n"
     ]
    }
   ],
   "source": [
    "buildtime = datetime.now().strftime('%d%m%y_%H%M')\n",
    "project_model=f\"{buildtime}\"\n",
    "print(project_model)\n",
    "\n",
    "\n",
    "t_Start=time.time()\n",
    "\n",
    "print(f\"Start tund at {datetime.now()}\")"
   ]
  },
  {
   "cell_type": "code",
   "execution_count": null,
   "metadata": {},
   "outputs": [
    {
     "name": "stdout",
     "output_type": "stream",
     "text": [
      "Trial 1 Complete [00h 00m 27s]\n",
      "mean_absolute_error: 0.03951457515358925\n",
      "\n",
      "Best mean_absolute_error So Far: 0.03951457515358925\n",
      "Total elapsed time: 00h 00m 27s\n",
      "\n",
      "Search: Running Trial #2\n",
      "\n",
      "Value             |Best Value So Far |Hyperparameter\n",
      "180               |240               |input_unit\n",
      "0                 |0.1               |Dropout_rate\n",
      "0.01              |0.001             |learning_rate\n",
      "3                 |3                 |tuner/epochs\n",
      "0                 |0                 |tuner/initial_epoch\n",
      "4                 |4                 |tuner/bracket\n",
      "0                 |0                 |tuner/round\n",
      "\n",
      "Epoch 1/3\n",
      "54/54 [==============================] - 7s 92ms/step - loss: 0.0603 - mean_absolute_error: 0.0603 - val_loss: 0.2026 - val_mean_absolute_error: 0.2026\n",
      "Epoch 2/3\n",
      "54/54 [==============================] - 4s 78ms/step - loss: 0.1380 - mean_absolute_error: 0.1380 - val_loss: 0.1262 - val_mean_absolute_error: 0.1262\n",
      "Epoch 3/3\n",
      "32/54 [================>.............] - ETA: 1s - loss: 0.1950 - mean_absolute_error: 0.1950"
     ]
    }
   ],
   "source": [
    "# bayesian=1 or hypterband=2\n",
    "print(opitmizer_algo)\n",
    "if opitmizer_algo==\"bayesian\":\n",
    "# https://keras.io/api/keras_tuner/tuners/bayesian/\n",
    "    tuner = kt.BayesianOptimization(\n",
    "            build_model_way,\n",
    "            objective=main_obj_metric,\n",
    "            max_trials=nMax_trials,\n",
    "            seed=seed,\n",
    "            executions_per_trial=nExecutions_per_trial,\n",
    "            directory=f\"tuning/{tune_folder}/\",\n",
    "            project_name= project_model\n",
    "            )\n",
    "else:\n",
    "# https://keras.io/api/keras_tuner/tuners/hyperband/\n",
    "    tuner = kt.Hyperband(\n",
    "        build_model_way, objective=main_obj_metric,max_epochs=n_epochs,\n",
    "        directory=f\"tuning/{tune_folder}/\",project_name= project_model)\n",
    "\n",
    "\n",
    "early_stop = EarlyStopping(monitor='val_loss', patience=n_early, verbose=1)\n",
    "\n",
    "log_dir = f\"{tsb_path}\" + datetime.now().strftime(\"%Y%m%d-%H%M\")\n",
    "tensorboard_callback = tf.keras.callbacks.TensorBoard(log_dir=log_dir)\n",
    "\n",
    "tuner.search(x_train, y_train, batch_size=n_batch_size, epochs=n_epochs,\n",
    "                        validation_data=(x_test, y_test),\n",
    "                        shuffle=False,verbose=1,callbacks=[early_stop,tensorboard_callback])\n",
    "\n"
   ]
  },
  {
   "cell_type": "code",
   "execution_count": null,
   "metadata": {},
   "outputs": [],
   "source": [
    "print(\"Space to search\")\n",
    "tuner.search_space_summary()\n",
    "print(f\"Suumary of {nMax_trials}\")\n",
    "tuner.results_summary()"
   ]
  },
  {
   "cell_type": "code",
   "execution_count": null,
   "metadata": {},
   "outputs": [],
   "source": [
    "t_End=time.time()\n",
    "t_elapsed=(t_End-t_Start)/60/60\n",
    "print('Total execution : ',round(t_elapsed,2)) \n",
    "print(datetime.now())"
   ]
  },
  {
   "cell_type": "markdown",
   "metadata": {},
   "source": [
    "# Load Tensorflow to look into train result more deeply"
   ]
  },
  {
   "cell_type": "code",
   "execution_count": 121,
   "metadata": {},
   "outputs": [
    {
     "name": "stdout",
     "output_type": "stream",
     "text": [
      "Known TensorBoard instances:\n",
      "  - port 6006: logdir tsb_logs/tune/ (started 0:00:18 ago; pid 24104)\n",
      "  - port 6006: logdir logs/fit (started 8 days, 21:03:58 ago; pid 6652)\n",
      "  - port 6006: logdir /tmp/tb_logs_tune (started 8 days, 22:04:22 ago; pid 8656)\n",
      "  - port 6006: logdir logs/fit (started 8 days, 21:10:30 ago; pid 9520)\n",
      "Selecting TensorBoard with logdir tsb_logs/tune/ (started 0:00:18 ago; port 6006, pid 24104).\n"
     ]
    },
    {
     "data": {
      "text/html": [
       "\n",
       "      <iframe id=\"tensorboard-frame-610a369f33ed6b07\" width=\"100%\" height=\"1000\" frameborder=\"0\">\n",
       "      </iframe>\n",
       "      <script>\n",
       "        (function() {\n",
       "          const frame = document.getElementById(\"tensorboard-frame-610a369f33ed6b07\");\n",
       "          const url = new URL(\"/\", window.location);\n",
       "          const port = 6006;\n",
       "          if (port) {\n",
       "            url.port = port;\n",
       "          }\n",
       "          frame.src = url;\n",
       "        })();\n",
       "      </script>\n",
       "    "
      ],
      "text/plain": [
       "<IPython.core.display.HTML object>"
      ]
     },
     "metadata": {},
     "output_type": "display_data"
    }
   ],
   "source": [
    "# # Load the TensorBoard notebook extension\n",
    "# # %tensorboard --logdir tsb_logs/tune/\n",
    "# load and comment to use notebook\n",
    "%tensorboard --logdir tsb_logs/tune/  --host 0.0.0.0\n",
    "from tensorboard import notebook\n",
    "notebook.list() # View open TensorBoard instances\n",
    "# Control TensorBoard display. If no port is provided, \n",
    "# the most recently launched TensorBoard is used\n",
    "notebook.display(port=6006, height=1000)"
   ]
  },
  {
   "cell_type": "markdown",
   "metadata": {},
   "source": [
    "# Get Optimal HyperParamters"
   ]
  },
  {
   "cell_type": "code",
   "execution_count": 122,
   "metadata": {},
   "outputs": [
    {
     "name": "stdout",
     "output_type": "stream",
     "text": [
      "{'input_unit': 240, 'Dropout_rate': 0.0, 'learning_rate': 0.001}\n",
      "build model from  the best tuning\n",
      "Model: \"sequential_2\"\n",
      "_________________________________________________________________\n",
      " Layer (type)                Output Shape              Param #   \n",
      "=================================================================\n",
      " lstm_2 (LSTM)               (None, 240)               232320    \n",
      "                                                                 \n",
      " dropout_2 (Dropout)         (None, 240)               0         \n",
      "                                                                 \n",
      " dense_2 (Dense)             (None, 10)                2410      \n",
      "                                                                 \n",
      "=================================================================\n",
      "Total params: 234,730\n",
      "Trainable params: 234,730\n",
      "Non-trainable params: 0\n",
      "_________________________________________________________________\n",
      "None\n"
     ]
    }
   ],
   "source": [
    "best_hps=tuner.get_best_hyperparameters(num_trials=1)[0]\n",
    "print(best_hps.values)\n",
    "print(\"build model from  the best tuning\")\n",
    "\n",
    "# model=tuner.get_best_models(num_models=1)[0]\n",
    "\n",
    "model = tuner.hypermodel.build(best_hps)\n",
    "print(model.summary())"
   ]
  },
  {
   "cell_type": "code",
   "execution_count": null,
   "metadata": {},
   "outputs": [],
   "source": []
  },
  {
   "cell_type": "code",
   "execution_count": null,
   "metadata": {},
   "outputs": [],
   "source": []
  },
  {
   "cell_type": "markdown",
   "metadata": {},
   "source": [
    "# Training the TUNED Model "
   ]
  },
  {
   "cell_type": "code",
   "execution_count": 123,
   "metadata": {},
   "outputs": [
    {
     "name": "stdout",
     "output_type": "stream",
     "text": [
      "Training the Best Model with early stop at 20\n",
      "2023-11-19 22:25:41.364182\n",
      "Epoch 1/200\n",
      "54/54 - 11s - loss: 0.0489 - mean_absolute_error: 0.0489 - val_loss: 0.0879 - val_mean_absolute_error: 0.0879 - 11s/epoch - 202ms/step\n",
      "Epoch 2/200\n",
      "54/54 - 7s - loss: 0.0744 - mean_absolute_error: 0.0744 - val_loss: 0.1081 - val_mean_absolute_error: 0.1081 - 7s/epoch - 134ms/step\n",
      "Epoch 3/200\n",
      "54/54 - 7s - loss: 0.0792 - mean_absolute_error: 0.0792 - val_loss: 0.1339 - val_mean_absolute_error: 0.1339 - 7s/epoch - 131ms/step\n",
      "Epoch 4/200\n",
      "54/54 - 7s - loss: 0.0788 - mean_absolute_error: 0.0788 - val_loss: 0.0982 - val_mean_absolute_error: 0.0982 - 7s/epoch - 138ms/step\n",
      "Epoch 5/200\n",
      "54/54 - 7s - loss: 0.0627 - mean_absolute_error: 0.0627 - val_loss: 0.0563 - val_mean_absolute_error: 0.0563 - 7s/epoch - 138ms/step\n",
      "Epoch 6/200\n",
      "54/54 - 7s - loss: 0.0484 - mean_absolute_error: 0.0484 - val_loss: 0.0726 - val_mean_absolute_error: 0.0726 - 7s/epoch - 129ms/step\n",
      "Epoch 7/200\n",
      "54/54 - 7s - loss: 0.0413 - mean_absolute_error: 0.0413 - val_loss: 0.0583 - val_mean_absolute_error: 0.0583 - 7s/epoch - 127ms/step\n",
      "Epoch 8/200\n",
      "54/54 - 7s - loss: 0.0331 - mean_absolute_error: 0.0331 - val_loss: 0.0403 - val_mean_absolute_error: 0.0403 - 7s/epoch - 129ms/step\n",
      "Epoch 9/200\n",
      "54/54 - 7s - loss: 0.0181 - mean_absolute_error: 0.0181 - val_loss: 0.0647 - val_mean_absolute_error: 0.0647 - 7s/epoch - 126ms/step\n",
      "Epoch 10/200\n",
      "54/54 - 7s - loss: 0.0190 - mean_absolute_error: 0.0190 - val_loss: 0.0338 - val_mean_absolute_error: 0.0338 - 7s/epoch - 123ms/step\n",
      "Epoch 11/200\n",
      "54/54 - 7s - loss: 0.0143 - mean_absolute_error: 0.0143 - val_loss: 0.0436 - val_mean_absolute_error: 0.0436 - 7s/epoch - 123ms/step\n",
      "Epoch 12/200\n",
      "54/54 - 7s - loss: 0.0202 - mean_absolute_error: 0.0202 - val_loss: 0.0273 - val_mean_absolute_error: 0.0273 - 7s/epoch - 125ms/step\n",
      "Epoch 13/200\n",
      "54/54 - 7s - loss: 0.0170 - mean_absolute_error: 0.0170 - val_loss: 0.0411 - val_mean_absolute_error: 0.0411 - 7s/epoch - 122ms/step\n",
      "Epoch 14/200\n",
      "54/54 - 7s - loss: 0.0193 - mean_absolute_error: 0.0193 - val_loss: 0.0398 - val_mean_absolute_error: 0.0398 - 7s/epoch - 125ms/step\n",
      "Epoch 15/200\n",
      "54/54 - 7s - loss: 0.0133 - mean_absolute_error: 0.0133 - val_loss: 0.0436 - val_mean_absolute_error: 0.0436 - 7s/epoch - 122ms/step\n",
      "Epoch 16/200\n",
      "54/54 - 7s - loss: 0.0149 - mean_absolute_error: 0.0149 - val_loss: 0.0521 - val_mean_absolute_error: 0.0521 - 7s/epoch - 124ms/step\n",
      "Epoch 17/200\n",
      "54/54 - 7s - loss: 0.0154 - mean_absolute_error: 0.0154 - val_loss: 0.0319 - val_mean_absolute_error: 0.0319 - 7s/epoch - 125ms/step\n",
      "Epoch 18/200\n",
      "54/54 - 7s - loss: 0.0129 - mean_absolute_error: 0.0129 - val_loss: 0.0341 - val_mean_absolute_error: 0.0341 - 7s/epoch - 122ms/step\n",
      "Epoch 19/200\n",
      "54/54 - 7s - loss: 0.0157 - mean_absolute_error: 0.0157 - val_loss: 0.0350 - val_mean_absolute_error: 0.0350 - 7s/epoch - 126ms/step\n",
      "Epoch 20/200\n",
      "54/54 - 7s - loss: 0.0176 - mean_absolute_error: 0.0176 - val_loss: 0.0261 - val_mean_absolute_error: 0.0261 - 7s/epoch - 121ms/step\n",
      "Epoch 21/200\n",
      "54/54 - 7s - loss: 0.0164 - mean_absolute_error: 0.0164 - val_loss: 0.0366 - val_mean_absolute_error: 0.0366 - 7s/epoch - 125ms/step\n",
      "Epoch 22/200\n",
      "54/54 - 7s - loss: 0.0192 - mean_absolute_error: 0.0192 - val_loss: 0.0362 - val_mean_absolute_error: 0.0362 - 7s/epoch - 123ms/step\n",
      "Epoch 23/200\n",
      "54/54 - 7s - loss: 0.0146 - mean_absolute_error: 0.0146 - val_loss: 0.0380 - val_mean_absolute_error: 0.0380 - 7s/epoch - 123ms/step\n",
      "Epoch 24/200\n",
      "54/54 - 7s - loss: 0.0134 - mean_absolute_error: 0.0134 - val_loss: 0.0432 - val_mean_absolute_error: 0.0432 - 7s/epoch - 126ms/step\n",
      "Epoch 25/200\n",
      "54/54 - 7s - loss: 0.0152 - mean_absolute_error: 0.0152 - val_loss: 0.0299 - val_mean_absolute_error: 0.0299 - 7s/epoch - 124ms/step\n",
      "Epoch 26/200\n",
      "54/54 - 7s - loss: 0.0134 - mean_absolute_error: 0.0134 - val_loss: 0.0448 - val_mean_absolute_error: 0.0448 - 7s/epoch - 126ms/step\n",
      "Epoch 27/200\n",
      "54/54 - 7s - loss: 0.0132 - mean_absolute_error: 0.0132 - val_loss: 0.0339 - val_mean_absolute_error: 0.0339 - 7s/epoch - 121ms/step\n",
      "Epoch 28/200\n",
      "54/54 - 7s - loss: 0.0129 - mean_absolute_error: 0.0129 - val_loss: 0.0445 - val_mean_absolute_error: 0.0445 - 7s/epoch - 124ms/step\n",
      "Epoch 29/200\n",
      "54/54 - 7s - loss: 0.0149 - mean_absolute_error: 0.0149 - val_loss: 0.0254 - val_mean_absolute_error: 0.0254 - 7s/epoch - 123ms/step\n",
      "Epoch 30/200\n",
      "54/54 - 7s - loss: 0.0142 - mean_absolute_error: 0.0142 - val_loss: 0.0383 - val_mean_absolute_error: 0.0383 - 7s/epoch - 123ms/step\n",
      "Epoch 31/200\n",
      "54/54 - 7s - loss: 0.0159 - mean_absolute_error: 0.0159 - val_loss: 0.0255 - val_mean_absolute_error: 0.0255 - 7s/epoch - 125ms/step\n",
      "Epoch 32/200\n",
      "54/54 - 7s - loss: 0.0150 - mean_absolute_error: 0.0150 - val_loss: 0.0360 - val_mean_absolute_error: 0.0360 - 7s/epoch - 121ms/step\n",
      "Epoch 33/200\n",
      "54/54 - 7s - loss: 0.0166 - mean_absolute_error: 0.0166 - val_loss: 0.0228 - val_mean_absolute_error: 0.0228 - 7s/epoch - 124ms/step\n",
      "Epoch 34/200\n",
      "54/54 - 7s - loss: 0.0157 - mean_absolute_error: 0.0157 - val_loss: 0.0371 - val_mean_absolute_error: 0.0371 - 7s/epoch - 124ms/step\n",
      "Epoch 35/200\n",
      "54/54 - 7s - loss: 0.0143 - mean_absolute_error: 0.0143 - val_loss: 0.0257 - val_mean_absolute_error: 0.0257 - 7s/epoch - 122ms/step\n",
      "Epoch 36/200\n",
      "54/54 - 7s - loss: 0.0138 - mean_absolute_error: 0.0138 - val_loss: 0.0409 - val_mean_absolute_error: 0.0409 - 7s/epoch - 124ms/step\n",
      "Epoch 37/200\n",
      "54/54 - 7s - loss: 0.0137 - mean_absolute_error: 0.0137 - val_loss: 0.0241 - val_mean_absolute_error: 0.0241 - 7s/epoch - 122ms/step\n",
      "Epoch 38/200\n",
      "54/54 - 7s - loss: 0.0138 - mean_absolute_error: 0.0138 - val_loss: 0.0356 - val_mean_absolute_error: 0.0356 - 7s/epoch - 124ms/step\n",
      "Epoch 39/200\n",
      "54/54 - 7s - loss: 0.0156 - mean_absolute_error: 0.0156 - val_loss: 0.0287 - val_mean_absolute_error: 0.0287 - 7s/epoch - 122ms/step\n",
      "Epoch 40/200\n",
      "54/54 - 7s - loss: 0.0145 - mean_absolute_error: 0.0145 - val_loss: 0.0392 - val_mean_absolute_error: 0.0392 - 7s/epoch - 124ms/step\n",
      "Epoch 41/200\n",
      "54/54 - 7s - loss: 0.0148 - mean_absolute_error: 0.0148 - val_loss: 0.0243 - val_mean_absolute_error: 0.0243 - 7s/epoch - 126ms/step\n",
      "Epoch 42/200\n",
      "54/54 - 7s - loss: 0.0147 - mean_absolute_error: 0.0147 - val_loss: 0.0379 - val_mean_absolute_error: 0.0379 - 7s/epoch - 127ms/step\n",
      "Epoch 43/200\n",
      "54/54 - 7s - loss: 0.0151 - mean_absolute_error: 0.0151 - val_loss: 0.0234 - val_mean_absolute_error: 0.0234 - 7s/epoch - 124ms/step\n",
      "Epoch 44/200\n",
      "54/54 - 7s - loss: 0.0143 - mean_absolute_error: 0.0143 - val_loss: 0.0402 - val_mean_absolute_error: 0.0402 - 7s/epoch - 129ms/step\n",
      "Epoch 45/200\n",
      "54/54 - 7s - loss: 0.0159 - mean_absolute_error: 0.0159 - val_loss: 0.0253 - val_mean_absolute_error: 0.0253 - 7s/epoch - 138ms/step\n",
      "Epoch 46/200\n",
      "54/54 - 7s - loss: 0.0139 - mean_absolute_error: 0.0139 - val_loss: 0.0403 - val_mean_absolute_error: 0.0403 - 7s/epoch - 127ms/step\n",
      "Epoch 47/200\n",
      "54/54 - 7s - loss: 0.0137 - mean_absolute_error: 0.0137 - val_loss: 0.0307 - val_mean_absolute_error: 0.0307 - 7s/epoch - 128ms/step\n",
      "Epoch 48/200\n",
      "54/54 - 7s - loss: 0.0140 - mean_absolute_error: 0.0140 - val_loss: 0.0412 - val_mean_absolute_error: 0.0412 - 7s/epoch - 125ms/step\n",
      "Epoch 49/200\n",
      "54/54 - 7s - loss: 0.0133 - mean_absolute_error: 0.0133 - val_loss: 0.0232 - val_mean_absolute_error: 0.0232 - 7s/epoch - 125ms/step\n",
      "Epoch 50/200\n",
      "54/54 - 7s - loss: 0.0134 - mean_absolute_error: 0.0134 - val_loss: 0.0398 - val_mean_absolute_error: 0.0398 - 7s/epoch - 122ms/step\n",
      "Epoch 51/200\n",
      "54/54 - 7s - loss: 0.0130 - mean_absolute_error: 0.0130 - val_loss: 0.0298 - val_mean_absolute_error: 0.0298 - 7s/epoch - 133ms/step\n",
      "Epoch 52/200\n",
      "54/54 - 7s - loss: 0.0131 - mean_absolute_error: 0.0131 - val_loss: 0.0424 - val_mean_absolute_error: 0.0424 - 7s/epoch - 129ms/step\n",
      "Epoch 53/200\n",
      "54/54 - 7s - loss: 0.0118 - mean_absolute_error: 0.0118 - val_loss: 0.0327 - val_mean_absolute_error: 0.0327 - 7s/epoch - 132ms/step\n",
      "Epoch 53: early stopping\n",
      "Total execute making report :  0.1\n",
      "2023-11-19 22:31:46.695705\n"
     ]
    }
   ],
   "source": [
    "print(f\"Training the Best Model with early stop at {n_early}\")\n",
    "t_Start=time.time()\n",
    "print(datetime.now())\n",
    "\n",
    "\n",
    "early_stop = EarlyStopping(monitor='val_loss', patience=n_early, verbose=1)\n",
    "history = model.fit(x_train, y_train, \n",
    "                batch_size=n_batch_size, \n",
    "                epochs=n_epochs,\n",
    "                shuffle=False,\n",
    "                validation_data=(x_test, y_test),\n",
    "                verbose=2, callbacks=[early_stop]\n",
    "               )\n",
    "        \n",
    "t_End=time.time()\n",
    "t_elapsed=(t_End-t_Start)/60/60\n",
    "print('Total execute making report : ',round(t_elapsed,2)) \n",
    "print(datetime.now())"
   ]
  },
  {
   "cell_type": "code",
   "execution_count": 132,
   "metadata": {},
   "outputs": [
    {
     "name": "stdout",
     "output_type": "stream",
     "text": [
      "Best epoch: 54\n"
     ]
    }
   ],
   "source": [
    "val_per_epoch = history.history[main_obj_metric]\n",
    "best_epoch = len(val_per_epoch) + 1\n",
    "print('Best epoch: %d' % (best_epoch,))"
   ]
  },
  {
   "cell_type": "code",
   "execution_count": 133,
   "metadata": {},
   "outputs": [
    {
     "name": "stdout",
     "output_type": "stream",
     "text": [
      "List Metrics\n",
      "loss\n",
      "mean_absolute_error\n",
      "val_loss\n",
      "val_mean_absolute_error\n",
      "=====================================================\n",
      "Evaluate on test data\n",
      "14/14 [==============================] - 1s 65ms/step - loss: 0.0327 - mean_absolute_error: 0.0327\n",
      "test loss, test acc: [0.03272508829832077, 0.03272508829832077]\n"
     ]
    }
   ],
   "source": [
    "print(\"List Metrics\")\n",
    "for key in history.history.keys():\n",
    "    print(key)\n",
    "print(\"=====================================================\")    \n",
    "# Evaluate the model on the test data using `evaluate`\n",
    "#https://www.tensorflow.org/guide/keras/train_and_evaluate\n",
    "print(\"Evaluate on test data\")\n",
    "results = model.evaluate(x_test, y_test, batch_size=n_batch_size)\n",
    "print(\"test loss, test acc:\", results)"
   ]
  },
  {
   "cell_type": "code",
   "execution_count": 134,
   "metadata": {},
   "outputs": [
    {
     "data": {
      "image/png": "[encoded data removed]",
      "text/plain": [
       "<Figure size 640x480 with 1 Axes>"
      ]
     },
     "metadata": {},
     "output_type": "display_data"
    }
   ],
   "source": [
    "plt.title(main_obj_metric)\n",
    "plt.plot(history.history[main_obj_metric], label='train')\n",
    "plt.plot(history.history[f'val_{main_obj_metric}'], label='test')\n",
    "plt.legend()\n",
    "plt.show()"
   ]
  },
  {
   "cell_type": "code",
   "execution_count": 135,
   "metadata": {},
   "outputs": [
    {
     "data": {
      "image/png": "[encoded data removed]",
      "text/plain": [
       "<Figure size 640x480 with 1 Axes>"
      ]
     },
     "metadata": {},
     "output_type": "display_data"
    }
   ],
   "source": [
    "plt.title(f\"Train/Test Loss - {main_loss}\")\n",
    "plt.plot(history.history['loss'], label='train')\n",
    "plt.plot(history.history['val_loss'], label='test')\n",
    "plt.legend()\n",
    "plt.show()"
   ]
  },
  {
   "cell_type": "markdown",
   "metadata": {},
   "source": [
    "# Step #5 Evaluate Model Performance"
   ]
  },
  {
   "cell_type": "code",
   "execution_count": 136,
   "metadata": {},
   "outputs": [
    {
     "name": "stdout",
     "output_type": "stream",
     "text": [
      "14/14 [==============================] - 1s 64ms/step\n",
      "(436, 60, 1) (436, 10)\n"
     ]
    }
   ],
   "source": [
    "# Get the predicted values\n",
    "y_pred_scaled = model.predict(x_test)\n",
    "print(x_test.shape,y_pred_scaled.shape)"
   ]
  },
  {
   "cell_type": "code",
   "execution_count": 137,
   "metadata": {},
   "outputs": [
    {
     "name": "stdout",
     "output_type": "stream",
     "text": [
      "(436, 10)\n",
      "[[447.9693 448.5094 450.1514 450.0002 448.2656 446.5846 446.4965 446.5153\n",
      "  444.7962 442.875 ]\n",
      " [448.5094 450.1514 450.0002 448.2656 446.5846 446.4965 446.5153 444.7962\n",
      "  442.875  440.4559]\n",
      " [450.1514 450.0002 448.2656 446.5846 446.4965 446.5153 444.7962 442.875\n",
      "  440.4559 437.0912]\n",
      " [450.0002 448.2656 446.5846 446.4965 446.5153 444.7962 442.875  440.4559\n",
      "  437.0912 435.4928]\n",
      " [448.2656 446.5846 446.4965 446.5153 444.7962 442.875  440.4559 437.0912\n",
      "  435.4928 435.9032]]\n",
      "(436, 10)\n",
      "[[450.67682 451.80527 451.4892  453.01398 454.95718 454.0727  453.64767\n",
      "  454.5612  455.54153 455.0202 ]\n",
      " [450.5214  451.64142 451.2485  452.7702  454.78683 453.84506 453.42862\n",
      "  454.3787  455.4132  455.08194]\n",
      " [450.12958 451.264   450.89032 452.36807 454.3944  453.45773 453.08072\n",
      "  454.01785 455.10257 454.8798 ]\n",
      " [450.31552 451.4696  451.1979  452.6264  454.60898 453.7227  453.3547\n",
      "  454.2551  455.3266  455.01532]\n",
      " [450.67535 451.82684 451.58087 453.00082 454.9733  454.0954  453.70963\n",
      "  454.61075 455.66998 455.29877]]\n"
     ]
    }
   ],
   "source": [
    "\n",
    "# Unscale the predicted values\n",
    "y_pred = scaler_pred.inverse_transform(y_pred_scaled)\n",
    "y_test_unscaled = scaler_pred.inverse_transform(y_test).reshape(-1, output_sequence_length)\n",
    "\n",
    "print(y_test_unscaled.shape)\n",
    "print(y_test_unscaled[:5])\n",
    "print(y_pred.shape)\n",
    "print(y_pred[:5])"
   ]
  },
  {
   "cell_type": "code",
   "execution_count": 138,
   "metadata": {},
   "outputs": [
    {
     "data": {
      "text/html": [
       "<div>\n",
       "<style scoped>\n",
       "    .dataframe tbody tr th:only-of-type {\n",
       "        vertical-align: middle;\n",
       "    }\n",
       "\n",
       "    .dataframe tbody tr th {\n",
       "        vertical-align: top;\n",
       "    }\n",
       "\n",
       "    .dataframe thead th {\n",
       "        text-align: right;\n",
       "    }\n",
       "</style>\n",
       "<table border=\"1\" class=\"dataframe\">\n",
       "  <thead>\n",
       "    <tr style=\"text-align: right;\">\n",
       "      <th></th>\n",
       "      <th>Step1-EMA1</th>\n",
       "      <th>Step1-Pred-EMA1</th>\n",
       "      <th>Step10-EMA1</th>\n",
       "      <th>Step10-Pred-EMA1</th>\n",
       "      <th>Step2-EMA1</th>\n",
       "      <th>Step2-Pred-EMA1</th>\n",
       "      <th>Step3-EMA1</th>\n",
       "      <th>Step3-Pred-EMA1</th>\n",
       "      <th>Step4-EMA1</th>\n",
       "      <th>Step4-Pred-EMA1</th>\n",
       "      <th>Step5-EMA1</th>\n",
       "      <th>Step5-Pred-EMA1</th>\n",
       "      <th>Step6-EMA1</th>\n",
       "      <th>Step6-Pred-EMA1</th>\n",
       "      <th>Step7-EMA1</th>\n",
       "      <th>Step7-Pred-EMA1</th>\n",
       "      <th>Step8-EMA1</th>\n",
       "      <th>Step8-Pred-EMA1</th>\n",
       "      <th>Step9-EMA1</th>\n",
       "      <th>Step9-Pred-EMA1</th>\n",
       "    </tr>\n",
       "  </thead>\n",
       "  <tbody>\n",
       "    <tr>\n",
       "      <th>0</th>\n",
       "      <td>447.9693</td>\n",
       "      <td>450.676819</td>\n",
       "      <td>442.8750</td>\n",
       "      <td>455.020203</td>\n",
       "      <td>448.5094</td>\n",
       "      <td>451.805267</td>\n",
       "      <td>450.1514</td>\n",
       "      <td>451.489197</td>\n",
       "      <td>450.0002</td>\n",
       "      <td>453.013977</td>\n",
       "      <td>448.2656</td>\n",
       "      <td>454.957184</td>\n",
       "      <td>446.5846</td>\n",
       "      <td>454.072693</td>\n",
       "      <td>446.4965</td>\n",
       "      <td>453.647675</td>\n",
       "      <td>446.5153</td>\n",
       "      <td>454.561188</td>\n",
       "      <td>444.7962</td>\n",
       "      <td>455.541534</td>\n",
       "    </tr>\n",
       "    <tr>\n",
       "      <th>1</th>\n",
       "      <td>448.5094</td>\n",
       "      <td>450.521393</td>\n",
       "      <td>440.4559</td>\n",
       "      <td>455.081940</td>\n",
       "      <td>450.1514</td>\n",
       "      <td>451.641418</td>\n",
       "      <td>450.0002</td>\n",
       "      <td>451.248505</td>\n",
       "      <td>448.2656</td>\n",
       "      <td>452.770203</td>\n",
       "      <td>446.5846</td>\n",
       "      <td>454.786835</td>\n",
       "      <td>446.4965</td>\n",
       "      <td>453.845062</td>\n",
       "      <td>446.5153</td>\n",
       "      <td>453.428619</td>\n",
       "      <td>444.7962</td>\n",
       "      <td>454.378693</td>\n",
       "      <td>442.8750</td>\n",
       "      <td>455.413208</td>\n",
       "    </tr>\n",
       "    <tr>\n",
       "      <th>2</th>\n",
       "      <td>450.1514</td>\n",
       "      <td>450.129578</td>\n",
       "      <td>437.0912</td>\n",
       "      <td>454.879791</td>\n",
       "      <td>450.0002</td>\n",
       "      <td>451.264008</td>\n",
       "      <td>448.2656</td>\n",
       "      <td>450.890320</td>\n",
       "      <td>446.5846</td>\n",
       "      <td>452.368073</td>\n",
       "      <td>446.4965</td>\n",
       "      <td>454.394409</td>\n",
       "      <td>446.5153</td>\n",
       "      <td>453.457733</td>\n",
       "      <td>444.7962</td>\n",
       "      <td>453.080719</td>\n",
       "      <td>442.8750</td>\n",
       "      <td>454.017853</td>\n",
       "      <td>440.4559</td>\n",
       "      <td>455.102570</td>\n",
       "    </tr>\n",
       "  </tbody>\n",
       "</table>\n",
       "</div>"
      ],
      "text/plain": [
       "   Step1-EMA1  Step1-Pred-EMA1  Step10-EMA1  Step10-Pred-EMA1  Step2-EMA1  \\\n",
       "0    447.9693       450.676819     442.8750        455.020203    448.5094   \n",
       "1    448.5094       450.521393     440.4559        455.081940    450.1514   \n",
       "2    450.1514       450.129578     437.0912        454.879791    450.0002   \n",
       "\n",
       "   Step2-Pred-EMA1  Step3-EMA1  Step3-Pred-EMA1  Step4-EMA1  Step4-Pred-EMA1  \\\n",
       "0       451.805267    450.1514       451.489197    450.0002       453.013977   \n",
       "1       451.641418    450.0002       451.248505    448.2656       452.770203   \n",
       "2       451.264008    448.2656       450.890320    446.5846       452.368073   \n",
       "\n",
       "   Step5-EMA1  Step5-Pred-EMA1  Step6-EMA1  Step6-Pred-EMA1  Step7-EMA1  \\\n",
       "0    448.2656       454.957184    446.5846       454.072693    446.4965   \n",
       "1    446.5846       454.786835    446.4965       453.845062    446.5153   \n",
       "2    446.4965       454.394409    446.5153       453.457733    444.7962   \n",
       "\n",
       "   Step7-Pred-EMA1  Step8-EMA1  Step8-Pred-EMA1  Step9-EMA1  Step9-Pred-EMA1  \n",
       "0       453.647675    446.5153       454.561188    444.7962       455.541534  \n",
       "1       453.428619    444.7962       454.378693    442.8750       455.413208  \n",
       "2       453.080719    442.8750       454.017853    440.4559       455.102570  "
      ]
     },
     "execution_count": 138,
     "metadata": {},
     "output_type": "execute_result"
    }
   ],
   "source": [
    "dfTestActual=pd.DataFrame(data=y_test_unscaled, \\\n",
    "                          columns=[ f\"Step{x}-{prediction_col}\"  for x in range(1,output_sequence_length+1,1)])\n",
    "dfTestPred=pd.DataFrame(data=y_pred, \\\n",
    "                          columns=[ f\"Step{x}-Pred-{prediction_col}\"  for x in range(1,output_sequence_length+1,1)]) \n",
    "dfActualPred=pd.concat([dfTestActual,dfTestPred],axis=1)\n",
    "ActualPredcols=sorted(dfActualPred.columns.tolist())\n",
    "dfActualPred=dfActualPred[ActualPredcols]\n",
    "dfActualPred.head(3)"
   ]
  },
  {
   "cell_type": "code",
   "execution_count": 139,
   "metadata": {},
   "outputs": [
    {
     "name": "stdout",
     "output_type": "stream",
     "text": [
      "Mean Absolute Error (MAE): 9.39\n",
      "===========================================================================\n",
      "Mean Absolute Percentage Error (MAPE): 2.33 %\n"
     ]
    }
   ],
   "source": [
    "# Mean Absolute Error (MAE)\n",
    "MAE = mean_absolute_error(y_test_unscaled, y_pred)\n",
    "print(f'Mean Absolute Error (MAE): {np.round(MAE, 2)}')\n",
    "print(\"===========================================================================\")\n",
    "\n",
    "MAPE = np.mean((np.abs(np.subtract(y_test_unscaled, y_pred)/ y_test_unscaled))) * 100\n",
    "print(f'Mean Absolute Percentage Error (MAPE): {np.round(MAPE, 2)} %')\n",
    "\n",
    "\n",
    "# Root Mean  Squre Error\n",
    "# RMSE = math.sqrt( mean_squared_error(y_test_unscaled, y_pred))\n",
    "# print(f'Root MEAN Square Error(RMSE): {np.round(RMSE, 2)}')\n"
   ]
  },
  {
   "cell_type": "markdown",
   "metadata": {},
   "source": [
    "# Plot Multiple Forcast (Most Complex Step)"
   ]
  },
  {
   "cell_type": "code",
   "execution_count": null,
   "metadata": {},
   "outputs": [],
   "source": [
    "def prepare_df(i, x, y, y_pred_unscaled):\n",
    "    # Undo the scaling on x, reshape the testset into a one-dimensional array, so that it fits to the pred scaler\n",
    "    x_test_unscaled_df = pd.DataFrame(scaler_pred.inverse_transform((x[i]))[:,index_Prediction])\\\n",
    "    .rename(columns={0:'x_test'})\n",
    "    \n",
    "    y_test_unscaled_df = []\n",
    "    # Undo the scaling on y\n",
    "    if type(y) == np.ndarray:\n",
    "        y_test_unscaled_df = pd.DataFrame(scaler_pred.inverse_transform(y)[i]).rename(columns={0:'y_test'})\n",
    "\n",
    "    # Create a dataframe for the y_pred at position i, y_pred is already unscaled\n",
    "    y_pred_df = pd.DataFrame(y_pred_unscaled[i]).rename(columns={0:'y_pred'})\n",
    "    return x_test_unscaled_df, y_pred_df, y_test_unscaled_df\n",
    "\n",
    "\n",
    "def plot_multi_test_forecast(x_test_unscaled_df, y_test_unscaled_df, y_pred_df, title): \n",
    "    # Package y_pred_unscaled and y_test_unscaled into a dataframe with columns pred and true   \n",
    "    if type(y_test_unscaled_df) == pd.core.frame.DataFrame:\n",
    "        df_merge = y_pred_df.join(y_test_unscaled_df, how='left')\n",
    "    else:\n",
    "        df_merge = y_pred_df.copy()\n",
    "    \n",
    "    # Merge the dataframes \n",
    "    df_merge_ = pd.concat([x_test_unscaled_df, df_merge]).reset_index(drop=True)\n",
    "    \n",
    "    # Plot the linecharts\n",
    "    fig, ax = plt.subplots(figsize=(20, 8))\n",
    "    plt.title(title, fontsize=12)\n",
    "    ax.set(ylabel = f\"{asset_name}-{prediction_col}\")\n",
    "    sns.lineplot(data = df_merge_, linewidth=2.0, ax=ax)\n",
    "\n"
   ]
  },
  {
   "cell_type": "markdown",
   "metadata": {},
   "source": [
    "# Step #6 Create a new Forecast"
   ]
  },
  {
   "cell_type": "code",
   "execution_count": null,
   "metadata": {},
   "outputs": [],
   "source": [
    "x_test_latest_batch = np_scaled[-(input_sequence_length+1):-1,:].reshape(1,input_sequence_length,len(feature_cols))\n",
    "print(f\"{x_test_latest_batch.shape} is the latest input batch from the test dataset, which is contains the price values for the last {input_sequence_length} trading days\")\n",
    "\n",
    "x_test_latest_batch"
   ]
  },
  {
   "cell_type": "code",
   "execution_count": null,
   "metadata": {},
   "outputs": [],
   "source": [
    "y_pred_scaled = model.predict(x_test_latest_batch)\n",
    "y_pred_unscaled = scaler_pred.inverse_transform(y_pred_scaled)\n",
    "print(f\"Predict on the inverse transformed batch {y_pred_unscaled.shape}\")\n",
    "print(y_pred_unscaled)"
   ]
  },
  {
   "cell_type": "code",
   "execution_count": null,
   "metadata": {},
   "outputs": [],
   "source": [
    "print(\"Prepare the data and plot the input data and the predictions\")\n",
    "x_test_unscaled_df, y_test_unscaled_df, _ = prepare_df(0, x_test_latest_batch, '', y_pred_unscaled)\n",
    "print(f\"X-Test= {x_test_unscaled_df.shape}\")\n",
    "print(f\"Y-Test= {y_test_unscaled_df.shape}\")\n",
    "\n",
    "# print(x_test_unscaled_df.tail(len(y_test_unscaled_df)))\n",
    "# print(y_test_unscaled_df.tail(len(y_test_unscaled_df)))"
   ]
  },
  {
   "cell_type": "code",
   "execution_count": null,
   "metadata": {},
   "outputs": [],
   "source": [
    "plot_multi_test_forecast(x_test_unscaled_df, '',y_test_unscaled_df, \"x_new Vs. y_new_pred\")"
   ]
  },
  {
   "cell_type": "markdown",
   "metadata": {},
   "source": [
    "#### "
   ]
  },
  {
   "cell_type": "markdown",
   "metadata": {},
   "source": [
    "# Create Final Model"
   ]
  },
  {
   "cell_type": "code",
   "execution_count": null,
   "metadata": {},
   "outputs": [],
   "source": [
    "dfAll=df.sort_values(by=[date_col]).copy()\n",
    "npAll_unscaled, npPredictCol_unscaled = prepare_data(dfAll) \n",
    "print(npAll_unscaled.shape,npPredictCol_unscaled.shape)"
   ]
  },
  {
   "cell_type": "code",
   "execution_count": null,
   "metadata": {},
   "outputs": [],
   "source": [
    "scalerFinalTrain = MinMaxScaler()\n",
    "scalerFinalPred = MinMaxScaler()\n",
    "npAll_scaled = scalerFinalTrain.fit_transform(npAll_unscaled)\n",
    "npAllPredictCol_scaled = scalerFinalPred.fit_transform(npPredictCol_unscaled)\n",
    "print(npAll_scaled.shape,npAllPredictCol_scaled.shape)\n",
    "print(npAll_scaled[:2])\n",
    "print(npAllPredictCol_scaled[:2])"
   ]
  },
  {
   "cell_type": "code",
   "execution_count": null,
   "metadata": {},
   "outputs": [],
   "source": [
    "x_all, y_all = partition_dataset(input_sequence_length, output_sequence_length,npAll_scaled)\n",
    "print(f\"We will tranin {x_all.shape},{y_all.shape} with batch={n_batch_size} and best epoch={best_epoch}\")"
   ]
  },
  {
   "cell_type": "code",
   "execution_count": null,
   "metadata": {},
   "outputs": [],
   "source": [
    "print(f\"Training All\")\n",
    "t_Start=time.time()\n",
    "print(datetime.now())\n",
    "\n",
    "history_final=model.fit(x=x_all, y=y_all, batch_size=n_batch_size, epochs=best_epoch,shuffle=False)\n",
    "        \n",
    "t_End=time.time()\n",
    "t_elapsed=(t_End-t_Start)/60/60\n",
    "print('Total execute making report : ',round(t_elapsed,2)) \n",
    "print(datetime.now())"
   ]
  },
  {
   "cell_type": "code",
   "execution_count": null,
   "metadata": {},
   "outputs": [],
   "source": [
    "# Plot training & validation loss values\n",
    "fig, ax = plt.subplots(figsize=(10, 5), sharex=True)\n",
    "plt.plot(history_final.history[\"loss\"])\n",
    "plt.title(\"Model loss\")\n",
    "plt.ylabel(\"Loss\")\n",
    "plt.xlabel(\"Epoch\")\n",
    "ax.xaxis.set_major_locator(plt.MaxNLocator(n_epochs))\n",
    "plt.legend([\"All Data\"], loc=\"upper left\")\n",
    "plt.grid()\n",
    "plt.show()"
   ]
  },
  {
   "cell_type": "code",
   "execution_count": null,
   "metadata": {},
   "outputs": [],
   "source": [
    "print(\"Save model and scaler\")\n",
    "\n",
    "#modelName='test2022-20for10'\n",
    "file_model=f'{model_path}/{modelName}_ma.h5'\n",
    "file_scaler=f'{model_path}/scaler_{modelName}.gz'\n",
    "file_scaler_pred=f'{model_path}/scaler_pred_{modelName}.gz'\n",
    "\n",
    "model.save(file_model)\n",
    "\n",
    "joblib.dump(scalerFinalTrain,file_scaler)\n",
    "joblib.dump(scalerFinalPred ,file_scaler_pred)"
   ]
  },
  {
   "cell_type": "code",
   "execution_count": null,
   "metadata": {},
   "outputs": [],
   "source": []
  },
  {
   "cell_type": "code",
   "execution_count": null,
   "metadata": {},
   "outputs": [],
   "source": []
  },
  {
   "cell_type": "code",
   "execution_count": null,
   "metadata": {},
   "outputs": [],
   "source": []
  },
  {
   "cell_type": "code",
   "execution_count": null,
   "metadata": {},
   "outputs": [],
   "source": []
  }
 ],
 "metadata": {
  "kernelspec": {
   "display_name": "Python 3 (ipykernel)",
   "language": "python",
   "name": "python3"
  },
  "language_info": {
   "codemirror_mode": {
    "name": "ipython",
    "version": 3
   },
   "file_extension": ".py",
   "mimetype": "text/x-python",
   "name": "python",
   "nbconvert_exporter": "python",
   "pygments_lexer": "ipython3",
   "version": "3.9.16"
  },
  "vscode": {
   "interpreter": {
    "hash": "cdb995469269d53d5ebc14eb4bb889bd554e0493b704e0e84f3a885021cdd43e"
   }
  }
 },
 "nbformat": 4,
 "nbformat_minor": 4
}
