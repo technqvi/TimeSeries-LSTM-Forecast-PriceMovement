{
 "cells": [
  {
   "cell_type": "code",
   "execution_count": 37,
   "metadata": {
    "tags": []
   },
   "outputs": [
    {
     "name": "stdout",
     "output_type": "stream",
     "text": [
      "Tensorflow Version: 2.12.0\n",
      "Bigquery Version: 3.11.4\n",
      "Pandas Version: 1.5.3\n",
      "Scikit-Learn Version: 1.2.1\n",
      "Keras Tuner: 1.3.5\n"
     ]
    }
   ],
   "source": [
    "import numpy as np \n",
    "import pandas as pd \n",
    "\n",
    "import math \n",
    "from datetime import date, timedelta, datetime \n",
    "import time\n",
    "import os\n",
    "\n",
    "from pandas.plotting import register_matplotlib_converters \n",
    "import matplotlib.pyplot as plt\n",
    "import matplotlib.dates as mdates \n",
    "import seaborn as sns\n",
    "\n",
    "import sklearn\n",
    "from sklearn.preprocessing import  MinMaxScaler \n",
    "\n",
    "from sklearn.metrics import mean_absolute_error, mean_squared_error \n",
    "\n",
    "import tensorflow as tf\n",
    "from tensorflow.keras.models import Sequential \n",
    "from tensorflow.keras.layers import LSTM, Dense, Dropout \n",
    "from tensorflow.keras.callbacks import EarlyStopping \n",
    "from tensorflow.keras import backend\n",
    "\n",
    "from tensorflow.keras.models import load_model\n",
    "import joblib\n",
    "\n",
    "import keras_tuner as kt\n",
    "from keras_tuner.engine.hyperparameters import HyperParameters\n",
    "\n",
    "\n",
    "from google.cloud import bigquery\n",
    "from google.oauth2 import service_account\n",
    "\n",
    "  \n",
    "print('Tensorflow Version: ' + tf.__version__)\n",
    "print('Bigquery Version: ' + bigquery.__version__)\n",
    "print('Pandas Version: ' + pd.__version__)\n",
    "print('Scikit-Learn Version: ' + sklearn.__version__)\n",
    "print('Keras Tuner: '+ kt.__version__)\n",
    "\n"
   ]
  },
  {
   "cell_type": "code",
   "execution_count": 38,
   "metadata": {},
   "outputs": [],
   "source": [
    "# Load the TensorBoard notebook extension.\n",
    "#%load_ext tensorboard\n",
    "#%reload_ext tensorboard"
   ]
  },
  {
   "cell_type": "markdown",
   "metadata": {},
   "source": [
    "# Reference Document"
   ]
  },
  {
   "cell_type": "markdown",
   "metadata": {},
   "source": [
    "* [https://www.relataly.com/stock-price-prediction-multi-output-regression-using-neural-networks-in-python/5800/](https://www.relataly.com/stock-price-prediction-multi-output-regression-using-neural-networks-in-python/5800/)\n",
    "* [https://www.relataly.com/univariate-stock-market-forecasting-using-a-recurrent-neural-network/122/](https://www.relataly.com/univariate-stock-market-forecasting-using-a-recurrent-neural-network/122/)\n",
    "* [https://www.relataly.com/stock-market-prediction-using-multivariate-time-series-in-python/1815/](https://www.relataly.com/stock-market-prediction-using-multivariate-time-series-in-python/1815/)\n",
    "* [https://www.relataly.com/regression-error-metrics-python/923/](https://www.relataly.com/regression-error-metrics-python/923/)\n",
    "* [https://keras.io/guides/keras_tuner/getting_started/](https://keras.io/guides/keras_tuner/getting_started/)\n",
    "* [https://www.tensorflow.org/tutorials/keras/keras_tuner] (https://www.tensorflow.org/tutorials/keras/keras_tuner)\n",
    "* [https://machinelearningmastery.com/how-to-develop-lstm-models-for-time-series-forecasting/](https://machinelearningmastery.com/how-to-develop-lstm-models-for-time-series-forecasting/)\n",
    "* [http://colah.github.io/posts/2015-08-Understanding-LSTMs/](http://colah.github.io/posts/2015-08-Understanding-LSTMs/)\n",
    "* [Determining the Right Batch Size for a Neural Network to Get Better and Faster Results](https://medium.com/data-science-365/determining-the-right-batch-size-for-a-neural-network-to-get-better-and-faster-results-7a8662830f15#:~:text=Default%20value%20%3D%2032&text=This%20is%20because%20the%20batch,%2C%20256%2C%20512%20and%201024!)"
   ]
  },
  {
   "cell_type": "markdown",
   "metadata": {},
   "source": [
    "# My Ref\n",
    "* https://github.com/technqvi/SMart-AI/blob/main/Model-TF_Keras/DNN-1-TF-KerasProcessing/multi_train_dnn1_incident.ipynb\n",
    "* https://github.com/technqvi/SMart-AI/blob/main/Model-TF_Keras/DNN-1-TF-KerasProcessing/multi_tuned_dnn1_incident.ipynb\n",
    "\n",
    "* https://keras.io/guides/keras_tuner/getting_started/\n",
    "* https://www.tensorflow.org/tutorials/keras/keras_tuner  by Hyperband tuner\n",
    "* https://medium.com/swlh/hyperparameter-tuning-in-keras-tensorflow-2-with-keras-tuner-randomsearch-hyperband-3e212647778f\n"
   ]
  },
  {
   "cell_type": "code",
   "execution_count": 39,
   "metadata": {
    "tags": []
   },
   "outputs": [
    {
     "name": "stdout",
     "output_type": "stream",
     "text": [
      "train_data/SPY_M0115-0324.csv\n"
     ]
    }
   ],
   "source": [
    "start_date='2015-01-01'\n",
    "end_date='2024-03-31'\n",
    "\n",
    "# start_date='2023-01-01'\n",
    "# end_date='2023-11-15'\n",
    "\n",
    "asset_name='SPY'   \n",
    "\n",
    "# univaiate  (single feature)\n",
    "prediction_col='EMA1'\n",
    "feature_cols=['EMA1']\n",
    "\n",
    "# multpvaric (nultiple features)\n",
    "# prediction_col='Close'\n",
    "# feature_cols=[prediction_col,'EMA1','EMA2','MACD','SIGNAL']\n",
    "\n",
    "strStartMY=datetime.strptime(start_date,\"%Y-%m-%d\").strftime(\"%m%y\")\n",
    "strEndMY=datetime.strptime(end_date,\"%Y-%m-%d\").strftime(\"%m%y\")\n",
    "period_str=f\"M{strStartMY}-{strEndMY}\"\n",
    "data_path=f\"train_data/{asset_name}_{period_str}.csv\"\n",
    "print(data_path)\n",
    "\n",
    "tsb_path=\"tsb_logs/tune/\""
   ]
  },
  {
   "cell_type": "markdown",
   "metadata": {},
   "source": [
    "# Load the Data from  BigQuery To Create TrainData as CSV File "
   ]
  },
  {
   "cell_type": "code",
   "execution_count": 40,
   "metadata": {
    "tags": []
   },
   "outputs": [
    {
     "name": "stdout",
     "output_type": "stream",
     "text": [
      "pongthorn.FinAssetForecast.fin_data\n",
      "Load csv train_data/SPY_M0115-0324.csv\n"
     ]
    }
   ],
   "source": [
    "projectId=\"pongthorn\"\n",
    "dataset_id='FinAssetForecast'\n",
    "table_data_id=f\"{projectId}.{dataset_id}.fin_data\"\n",
    "print(table_data_id)\n",
    "\n",
    "client = bigquery.Client(project=projectId )\n",
    "\n",
    "def load_data_bq(sql:str):\n",
    " query_result=client.query(sql)\n",
    " df=query_result.to_dataframe()\n",
    " return df\n",
    "\n",
    "\n",
    "\n",
    "if  os.path.exists(data_path)==False:\n",
    "    sqlData=f\"\"\"\n",
    "     select * from  `{table_data_id}` where Symbol='{asset_name}' and (Date>='{start_date}' and Date<='{end_date}')\n",
    "    \"\"\"\n",
    "    print(sqlData)\n",
    "    df=load_data_bq(sqlData)\n",
    "    df=df.sort_values(by=\"Date\")\n",
    "    df=df.drop_duplicates(subset=['Date','Symbol'],keep='last')\n",
    "    df=df.drop(columns=['ImportDateTime'])\n",
    "    df.to_csv(data_path,index=False)\n",
    "    print(df.info())\n",
    "    print(\"Load Data from BigQuery and Save it as csv.\")\n",
    "else:\n",
    "    print(f\"Load csv {data_path}\")"
   ]
  },
  {
   "cell_type": "markdown",
   "metadata": {},
   "source": [
    "# Init ML Constant Variable"
   ]
  },
  {
   "cell_type": "code",
   "execution_count": 41,
   "metadata": {
    "tags": []
   },
   "outputs": [
    {
     "name": "stdout",
     "output_type": "stream",
     "text": [
      "EMA1_60To10_SPY_E200S21B32-M0115-0324\n",
      "EMA1_60To10_SPY_E200S21B32\n"
     ]
    }
   ],
   "source": [
    "date_col='Date'\n",
    "\n",
    "main_obj_metric='mean_absolute_error'\n",
    "main_loss='mean_absolute_error'\n",
    "\n",
    "\n",
    "input_sequence_length=60 #60  #60 #120\n",
    "output_sequence_length =10  #10  # 10 #20\n",
    "train_ratio=0.8\n",
    "\n",
    "n_epochs =200  #250  #50 #100/150/200/250/300\n",
    "n_batch_size = 32  # 16/32/64\n",
    "n_early=21\n",
    "# n_early=int(n_epochs/10) #21\n",
    "\n",
    "seed=99\n",
    "\n",
    "#Tuning\n",
    "\n",
    "neuron_number=0 # \n",
    "#if >0 , we recommend  initializing 32,64,128 but it should be more that input_sequence_length * no_feature (60x1) \n",
    "# else 0, we use  input_sequence_length * no_feature (60x1)\n",
    "\n",
    "opitmizer_algo=\"bayesian\"  # bayesian=1 or hypterband=2\n",
    "\n",
    "# number of unit node in hidden laryer\n",
    "mx_step=4 # 6# 2,3,5,10\n",
    "mxMultipleStep=1  # double trail\n",
    "nExecutions_per_trial=3  #5 #3  #averger re-run on 1 trail \n",
    "\n",
    "# dropout rate\n",
    "min_drop=0.0\n",
    "max_drop=0.2  #0.2 #0.1 0.2  0.5\n",
    "step_drop=0.1\n",
    "\n",
    "# learingRatelist= [0.1,0.01,0.001,0.0001]\n",
    "#learingRatelist= [0.1,0.01,0.001]\n",
    "learingRatelist= []\n",
    "# min_rl=1e-3 #1e-4\n",
    "# max_rl=1e-2\n",
    "# no_rl=2\n",
    "\n",
    "defaultMaxTrail=10\n",
    "\n",
    "ratio_traial_max=1 #0.5 0.7/0.8/1\n",
    "\n",
    "model_path='train_model'\n",
    "\n",
    "tune_folder=f'{prediction_col}_{input_sequence_length}To{output_sequence_length}_{asset_name}_E{n_epochs}S{n_early}B{n_batch_size}'\n",
    "\n",
    "\n",
    "\n",
    "modelName=f\"{tune_folder}-{period_str}\"\n",
    "\n",
    "print(modelName)\n",
    "print(tune_folder)\n"
   ]
  },
  {
   "cell_type": "markdown",
   "metadata": {},
   "source": [
    "# Read Train Data"
   ]
  },
  {
   "cell_type": "code",
   "execution_count": 42,
   "metadata": {
    "tags": []
   },
   "outputs": [
    {
     "name": "stdout",
     "output_type": "stream",
     "text": [
      "        EMA1\n",
      "0   462.7393\n",
      "1   463.9419\n",
      "2   465.4344\n",
      "3   467.1470\n",
      "4   467.3493\n",
      "..       ...\n",
      "67  516.6594\n",
      "68  517.2365\n",
      "69  517.5222\n",
      "70  518.5491\n",
      "71  519.3711\n",
      "\n",
      "[72 rows x 1 columns]\n",
      "<class 'pandas.core.frame.DataFrame'>\n",
      "Index: 2324 entries, 2015-01-02 to 2024-03-28\n",
      "Data columns (total 1 columns):\n",
      " #   Column  Non-Null Count  Dtype  \n",
      "---  ------  --------------  -----  \n",
      " 0   EMA1    2324 non-null   float64\n",
      "dtypes: float64(1)\n",
      "memory usage: 36.3+ KB\n",
      "None\n",
      "['EMA1']\n"
     ]
    }
   ],
   "source": [
    "df=pd.read_csv(data_path)\n",
    "df.drop(columns=['Symbol'],inplace=True)\n",
    "\n",
    "print(df.tail(input_sequence_length+output_sequence_length+2).reset_index(drop=True)[feature_cols])\n",
    "\n",
    "df.set_index(date_col,inplace=True)\n",
    "df=df[feature_cols]\n",
    "print(df.info())\n",
    "\n",
    "allCols=list(df.columns)\n",
    "print(allCols)\n",
    "\n"
   ]
  },
  {
   "cell_type": "markdown",
   "metadata": {},
   "source": [
    "# Exploring the Data"
   ]
  },
  {
   "cell_type": "code",
   "execution_count": 43,
   "metadata": {
    "tags": []
   },
   "outputs": [
    {
     "data": {
      "image/png": "[encoded data removed]",
      "text/plain": [
       "<Figure size 1500x1500 with 1 Axes>"
      ]
     },
     "metadata": {},
     "output_type": "display_data"
    }
   ],
   "source": [
    "ncols = 1\n",
    "nrows = len(feature_cols)\n",
    "fig, ax = plt.subplots(nrows=nrows, ncols=ncols, sharex=True, figsize=(15, 15))\n",
    "for i, ax in enumerate(fig.axes):\n",
    "        sns.lineplot(data = df.iloc[:, i], ax=ax)\n",
    "        ax.tick_params(axis=\"x\", rotation=30, labelsize=10, length=0)\n",
    "        ax.xaxis.set_major_locator(mdates.AutoDateLocator())\n",
    "        ax.title.set_text(df.columns[i])\n",
    "fig.tight_layout()\n",
    "plt.show()"
   ]
  },
  {
   "cell_type": "code",
   "execution_count": 44,
   "metadata": {
    "tags": []
   },
   "outputs": [],
   "source": [
    "# print(\"Split dataframe to show time-dependent data sequencial sample data point)\")\n",
    "# _dfTrain=df.loc['2015-01-01':'2021-12-31',:]\n",
    "# print(_dfTrain.shape)  \n",
    "# print(_dfTrain.head())\n",
    "# print(_dfTrain.tail())\n",
    "\n",
    "# print(\"=========================================================\")\n",
    "\n",
    "# _dfTest=df.loc['2022':,:]\n",
    "# print(_dfTest.shape)  \n",
    "# print(_dfTest.head())\n",
    "# print(_dfTest.tail())"
   ]
  },
  {
   "cell_type": "markdown",
   "metadata": {},
   "source": [
    "# Get Data Proper To Train Model"
   ]
  },
  {
   "cell_type": "code",
   "execution_count": 45,
   "metadata": {
    "tags": []
   },
   "outputs": [
    {
     "name": "stdout",
     "output_type": "stream",
     "text": [
      "Convert the data to numpy arrays value\n",
      "(2324, 1)\n",
      "(2324, 1)\n",
      "Feature Data (2324, 1)\n",
      "[[206.3589]\n",
      " [205.5155]\n",
      " [204.48  ]]\n",
      "Prediction Data (2324, 1)\n",
      "[[206.3589]\n",
      " [205.5155]\n",
      " [204.48  ]]\n"
     ]
    }
   ],
   "source": [
    "def prepare_data(df):\n",
    "\n",
    "    print(\"Convert the data to numpy arrays value\")\n",
    "    np_feature_unscaled = np.array(df)\n",
    "    np_feature_unscaled = np.reshape(np_feature_unscaled, (df.shape[0], -1))\n",
    "    print(np_feature_unscaled.shape)\n",
    "    \n",
    "    np_pred_unscaled = np.array(df[prediction_col]).reshape(-1, 1)\n",
    "    print(np_pred_unscaled.shape)\n",
    "    \n",
    "    return np_feature_unscaled, np_pred_unscaled\n",
    "\n",
    "np_feature_unscaled, np_pred_unscaled = prepare_data(df)   \n",
    "\n",
    "\n",
    "print(\"Feature Data\",np_feature_unscaled.shape)\n",
    "print(np_feature_unscaled[:3])\n",
    "print(\"Prediction Data\",np_pred_unscaled.shape)\n",
    "print(np_pred_unscaled[:3])"
   ]
  },
  {
   "cell_type": "code",
   "execution_count": 46,
   "metadata": {
    "tags": []
   },
   "outputs": [
    {
     "name": "stdout",
     "output_type": "stream",
     "text": [
      "60 = How far back the model looks back during training to forecast).\n",
      "10 = How far into the future the model forecasts the target value\n",
      "Prediction Index = 0\n"
     ]
    }
   ],
   "source": [
    "print(f\"{input_sequence_length} = How far back the model looks back during training to forecast).\")\n",
    "print(f\"{output_sequence_length} = How far into the future the model forecasts the target value\")\n",
    "\n",
    "#How much ratio to split\n",
    "index_Prediction = df.columns.get_loc(prediction_col)\n",
    "print(f\"Prediction Index = {index_Prediction}\")\n",
    "\n"
   ]
  },
  {
   "cell_type": "code",
   "execution_count": 47,
   "metadata": {
    "tags": []
   },
   "outputs": [
    {
     "name": "stdout",
     "output_type": "stream",
     "text": [
      "0.8 = 1860 Split the training data into train and train data sets\n"
     ]
    }
   ],
   "source": [
    "# As a first step, we get the number of rows to train the model on 80% of the data \n",
    "train_data_length = math.ceil(np_feature_unscaled.shape[0] * train_ratio)\n",
    "print(f\"{train_ratio} = {train_data_length} Split the training data into train and train data sets\")"
   ]
  },
  {
   "cell_type": "code",
   "execution_count": 48,
   "metadata": {
    "tags": []
   },
   "outputs": [
    {
     "name": "stdout",
     "output_type": "stream",
     "text": [
      "Target value column data disttribution\n"
     ]
    },
    {
     "data": {
      "text/plain": [
       "<AxesSubplot: ylabel='Frequency'>"
      ]
     },
     "execution_count": 48,
     "metadata": {},
     "output_type": "execute_result"
    },
    {
     "data": {
      "image/png": "[encoded data removed]",
      "text/plain": [
       "<Figure size 1000x800 with 1 Axes>"
      ]
     },
     "metadata": {},
     "output_type": "display_data"
    }
   ],
   "source": [
    "print(\"Target value column data disttribution\")\n",
    "df[prediction_col].plot.hist(figsize=(10, 8))\n"
   ]
  },
  {
   "cell_type": "code",
   "execution_count": 49,
   "metadata": {
    "tags": []
   },
   "outputs": [
    {
     "name": "stdout",
     "output_type": "stream",
     "text": [
      "Scale feature and prediction to a range Max-Min between 0 and 1\n",
      "Split data and apply only train to scale\n",
      "Train Data to be scaled(feature and prediction)\n",
      "(1860, 1) (1860, 1)\n",
      "[[206.3589]\n",
      " [205.5155]\n",
      " [204.48  ]\n",
      " [204.0854]\n",
      " [204.4153]]\n",
      "[[206.3589]\n",
      " [205.5155]\n",
      " [204.48  ]\n",
      " [204.0854]\n",
      " [204.4153]]\n",
      "For predict test that take the past 60 train value to predict the first test value\n",
      "==============Scaler Object For Features=================\n",
      "1 features are scaled in range 0-1 such as ['EMA1']\n",
      "Max:[473.9935] -  Min:[187.0927]\n",
      "==============Scaler Object For Prediction Target Value=================\n",
      "1 pred col is scaled in range 0-1 such as EMA1\n",
      "Max:[473.9935] -  Min:[187.0927]\n",
      "=========================================\n",
      "Scaled data completely\n",
      "Scaled train and test data\n",
      "(1860, 1) (524, 1)\n",
      "[[0.06715283]\n",
      " [0.06421314]\n",
      " [0.06060387]\n",
      " [0.05922849]\n",
      " [0.06037836]]\n",
      "[[0.8672353 ]\n",
      " [0.86769608]\n",
      " [0.86385852]\n",
      " [0.86573164]\n",
      " [0.86588256]]\n",
      "=========================================\n",
      "Scale Prediction data (Scaled from Train data)\n",
      "(1860, 1)\n",
      "[[0.06715283]\n",
      " [0.06421314]\n",
      " [0.06060387]\n",
      " [0.05922849]\n",
      " [0.06037836]]\n"
     ]
    }
   ],
   "source": [
    "print(\"Scale feature and prediction to a range Max-Min between 0 and 1\")\n",
    "scaler_train = MinMaxScaler()\n",
    "scaler_pred = MinMaxScaler()\n",
    "\n",
    "\n",
    "print(\"Split data and apply only train to scale\")\n",
    "\n",
    "train_data = np_feature_unscaled[0:train_data_length, :]\n",
    "test_data = np_feature_unscaled[train_data_length - input_sequence_length:, :]\n",
    "\n",
    "np_PredictVal_unScaled=np_pred_unscaled[0:train_data_length]\n",
    "\n",
    "print(\"Train Data to be scaled(feature and prediction)\") \n",
    "print(train_data.shape,np_PredictVal_unScaled.shape)\n",
    "print(train_data[:5])\n",
    "print(np_PredictVal_unScaled[:5])\n",
    "\n",
    "train_data=scaler_train.fit_transform(train_data)\n",
    "test_data=scaler_train.transform(test_data)\n",
    "\n",
    "print(f\"For predict test that take the past {input_sequence_length} train value to predict the first test value\")\n",
    "np_scaled=scaler_train.transform(np_feature_unscaled)\n",
    "np_scaled_prediction = scaler_pred.fit_transform(np_PredictVal_unScaled)\n",
    "\n",
    "print(\"==============Scaler Object For Features=================\")  \n",
    "print(f\"{scaler_train.n_features_in_} features are scaled in range 0-1 such as {feature_cols}\")\n",
    "print(f\"Max:{scaler_train.data_max_} -  Min:{scaler_train.data_min_}\")\n",
    "\n",
    "print(\"==============Scaler Object For Prediction Target Value=================\")  \n",
    "print(f\"{scaler_pred.n_features_in_} pred col is scaled in range 0-1 such as {prediction_col}\")\n",
    "print(f\"Max:{scaler_pred.data_max_} -  Min:{scaler_pred.data_min_}\")\n",
    "\n",
    "\n",
    "print(\"=========================================\")       \n",
    "print(\"Scaled data completely\")\n",
    "print(\"Scaled train and test data\")\n",
    "print(train_data.shape,test_data.shape)\n",
    "print(train_data[:5])\n",
    "print(test_data[:5])\n",
    "\n",
    "print(\"=========================================\")  \n",
    "print(\"Scale Prediction data (Scaled from Train data)\")\n",
    "print(np_scaled_prediction.shape)\n",
    "print(np_scaled_prediction[:5])\n",
    "\n"
   ]
  },
  {
   "cell_type": "markdown",
   "metadata": {},
   "source": [
    "# Creating the Input data  as 3 dimension array (samples, time steps, features]\u000b"
   ]
  },
  {
   "cell_type": "code",
   "execution_count": 50,
   "metadata": {
    "tags": []
   },
   "outputs": [
    {
     "name": "stdout",
     "output_type": "stream",
     "text": [
      "The LSTM RNN needs data with the format of [sample rows, time steps, features]\n"
     ]
    }
   ],
   "source": [
    "print(\"The LSTM RNN needs data with the format of [sample rows, time steps, features]\")\n",
    "def partition_dataset(input_sequence_length, output_sequence_length, data):\n",
    "    x, y = [], []\n",
    "    data_len = data.shape[0]\n",
    "    for i in range(input_sequence_length, data_len - output_sequence_length):\n",
    "        x.append(data[i-input_sequence_length:i,:])\n",
    "        y.append(data[i:i + output_sequence_length, index_Prediction]) \n",
    "    \n",
    "    # Convert the x and y to numpy arrays\n",
    "    x = np.array(x)\n",
    "    y = np.array(y)\n",
    "    return x, y"
   ]
  },
  {
   "cell_type": "code",
   "execution_count": 51,
   "metadata": {
    "tags": []
   },
   "outputs": [
    {
     "name": "stdout",
     "output_type": "stream",
     "text": [
      "Here, we create 1860 samples, input_sequence_length time steps per sample, and features\n",
      "Generate training data and test data\n",
      "The shapes: the result is: (rows, training_sequence, features) (prediction value, )\n",
      "(1790, 60, 1) (1790, 10)\n",
      "(454, 60, 1) (454, 10)\n",
      "Use EMA1 samples over the past 60 days to predict the future over the next 10 days\n",
      "[[[0.90929199]\n",
      "  [0.91117452]\n",
      "  [0.91689776]\n",
      "  [0.91637075]\n",
      "  [0.91032475]\n",
      "  [0.90446559]\n",
      "  [0.90415851]\n",
      "  [0.90422404]\n",
      "  [0.89823207]\n",
      "  [0.89153568]\n",
      "  [0.88310385]\n",
      "  [0.8713761 ]\n",
      "  [0.86580484]\n",
      "  [0.8672353 ]\n",
      "  [0.86769608]\n",
      "  [0.86385852]\n",
      "  [0.86573164]\n",
      "  [0.86588256]\n",
      "  [0.86376267]\n",
      "  [0.8539544 ]\n",
      "  [0.84391434]\n",
      "  [0.84277214]\n",
      "  [0.84061425]\n",
      "  [0.83542047]\n",
      "  [0.82922564]\n",
      "  [0.82996806]\n",
      "  [0.83656442]\n",
      "  [0.84541521]\n",
      "  [0.85484321]\n",
      "  [0.86247476]\n",
      "  [0.87201395]\n",
      "  [0.87614953]\n",
      "  [0.88377307]\n",
      "  [0.89140462]\n",
      "  [0.89968902]\n",
      "  [0.91004138]\n",
      "  [0.9167057 ]\n",
      "  [0.91768409]\n",
      "  [0.91929545]\n",
      "  [0.92307306]\n",
      "  [0.92250701]\n",
      "  [0.919186  ]\n",
      "  [0.91789427]\n",
      "  [0.91607726]\n",
      "  [0.90974232]\n",
      "  [0.90352658]\n",
      "  [0.90162209]\n",
      "  [0.89656564]\n",
      "  [0.89254265]\n",
      "  [0.89373156]\n",
      "  [0.89449524]\n",
      "  [0.89090585]\n",
      "  [0.88035133]\n",
      "  [0.87328129]\n",
      "  [0.85963197]\n",
      "  [0.84920607]\n",
      "  [0.84735525]\n",
      "  [0.83582165]\n",
      "  [0.82795656]\n",
      "  [0.82272583]]\n",
      "\n",
      " [[0.91117452]\n",
      "  [0.91689776]\n",
      "  [0.91637075]\n",
      "  [0.91032475]\n",
      "  [0.90446559]\n",
      "  [0.90415851]\n",
      "  [0.90422404]\n",
      "  [0.89823207]\n",
      "  [0.89153568]\n",
      "  [0.88310385]\n",
      "  [0.8713761 ]\n",
      "  [0.86580484]\n",
      "  [0.8672353 ]\n",
      "  [0.86769608]\n",
      "  [0.86385852]\n",
      "  [0.86573164]\n",
      "  [0.86588256]\n",
      "  [0.86376267]\n",
      "  [0.8539544 ]\n",
      "  [0.84391434]\n",
      "  [0.84277214]\n",
      "  [0.84061425]\n",
      "  [0.83542047]\n",
      "  [0.82922564]\n",
      "  [0.82996806]\n",
      "  [0.83656442]\n",
      "  [0.84541521]\n",
      "  [0.85484321]\n",
      "  [0.86247476]\n",
      "  [0.87201395]\n",
      "  [0.87614953]\n",
      "  [0.88377307]\n",
      "  [0.89140462]\n",
      "  [0.89968902]\n",
      "  [0.91004138]\n",
      "  [0.9167057 ]\n",
      "  [0.91768409]\n",
      "  [0.91929545]\n",
      "  [0.92307306]\n",
      "  [0.92250701]\n",
      "  [0.919186  ]\n",
      "  [0.91789427]\n",
      "  [0.91607726]\n",
      "  [0.90974232]\n",
      "  [0.90352658]\n",
      "  [0.90162209]\n",
      "  [0.89656564]\n",
      "  [0.89254265]\n",
      "  [0.89373156]\n",
      "  [0.89449524]\n",
      "  [0.89090585]\n",
      "  [0.88035133]\n",
      "  [0.87328129]\n",
      "  [0.85963197]\n",
      "  [0.84920607]\n",
      "  [0.84735525]\n",
      "  [0.83582165]\n",
      "  [0.82795656]\n",
      "  [0.82272583]\n",
      "  [0.82648149]]\n",
      "\n",
      " [[0.91689776]\n",
      "  [0.91637075]\n",
      "  [0.91032475]\n",
      "  [0.90446559]\n",
      "  [0.90415851]\n",
      "  [0.90422404]\n",
      "  [0.89823207]\n",
      "  [0.89153568]\n",
      "  [0.88310385]\n",
      "  [0.8713761 ]\n",
      "  [0.86580484]\n",
      "  [0.8672353 ]\n",
      "  [0.86769608]\n",
      "  [0.86385852]\n",
      "  [0.86573164]\n",
      "  [0.86588256]\n",
      "  [0.86376267]\n",
      "  [0.8539544 ]\n",
      "  [0.84391434]\n",
      "  [0.84277214]\n",
      "  [0.84061425]\n",
      "  [0.83542047]\n",
      "  [0.82922564]\n",
      "  [0.82996806]\n",
      "  [0.83656442]\n",
      "  [0.84541521]\n",
      "  [0.85484321]\n",
      "  [0.86247476]\n",
      "  [0.87201395]\n",
      "  [0.87614953]\n",
      "  [0.88377307]\n",
      "  [0.89140462]\n",
      "  [0.89968902]\n",
      "  [0.91004138]\n",
      "  [0.9167057 ]\n",
      "  [0.91768409]\n",
      "  [0.91929545]\n",
      "  [0.92307306]\n",
      "  [0.92250701]\n",
      "  [0.919186  ]\n",
      "  [0.91789427]\n",
      "  [0.91607726]\n",
      "  [0.90974232]\n",
      "  [0.90352658]\n",
      "  [0.90162209]\n",
      "  [0.89656564]\n",
      "  [0.89254265]\n",
      "  [0.89373156]\n",
      "  [0.89449524]\n",
      "  [0.89090585]\n",
      "  [0.88035133]\n",
      "  [0.87328129]\n",
      "  [0.85963197]\n",
      "  [0.84920607]\n",
      "  [0.84735525]\n",
      "  [0.83582165]\n",
      "  [0.82795656]\n",
      "  [0.82272583]\n",
      "  [0.82648149]\n",
      "  [0.81989001]]] [[0.82648149 0.81989001 0.81293186 0.79889251 0.78798874 0.77504977\n",
      "  0.76420317 0.76127358 0.75784313 0.76025232]\n",
      " [0.81989001 0.81293186 0.79889251 0.78798874 0.77504977 0.76420317\n",
      "  0.76127358 0.75784313 0.76025232 0.75179226]\n",
      " [0.81293186 0.79889251 0.78798874 0.77504977 0.76420317 0.76127358\n",
      "  0.75784313 0.76025232 0.75179226 0.74334927]]\n"
     ]
    }
   ],
   "source": [
    "print(f\"Here, we create {len(train_data)} samples, input_sequence_length time steps per sample, and features\")\n",
    "\n",
    "print(\"Generate training data and test data\")\n",
    "x_train, y_train = partition_dataset(input_sequence_length, output_sequence_length, train_data)\n",
    "x_test, y_test = partition_dataset(input_sequence_length, output_sequence_length, test_data)\n",
    "\n",
    "print(\"The shapes: the result is: (rows, training_sequence, features) (prediction value, )\")\n",
    "print(x_train.shape, y_train.shape)\n",
    "print(x_test.shape, y_test.shape)\n",
    "\n",
    "print(f\"Use {prediction_col} samples over the past {input_sequence_length} days to predict the future over the next {output_sequence_length} days\")\n",
    "print(x_train[-3:],y_train[-3:])"
   ]
  },
  {
   "cell_type": "markdown",
   "metadata": {},
   "source": [
    "# Model Training"
   ]
  },
  {
   "cell_type": "markdown",
   "metadata": {},
   "source": [
    "# Paramterter Network"
   ]
  },
  {
   "cell_type": "code",
   "execution_count": 52,
   "metadata": {
    "tags": []
   },
   "outputs": [
    {
     "name": "stdout",
     "output_type": "stream",
     "text": [
      "Keras Tuning Parameter Setting\n",
      "Initialize no.node from backward step x feature = 60 x 1 = 60\n",
      "Train Row : 1790\n",
      "60(backward step) x 1(features) = 60, it is total no.NN  to predict future 10 with Hidden Node Unit from 60 to 240\n",
      "[60, 120, 180, 240] and [0.  0.1 0.2]\n",
      "all combination : 4 x 3 = 12\n",
      "MAx run : 12 each trail run to essemble  3\n"
     ]
    }
   ],
   "source": [
    "# Configure the neural network model\n",
    "# tf.random.set_seed(7)\n",
    "print(\"Keras Tuning Parameter Setting\")\n",
    "\n",
    "model = Sequential()\n",
    "n_output_neurons = output_sequence_length\n",
    "  \n",
    "inputshape_Timestamps= x_train.shape[1]\n",
    "no_feature=x_train.shape[2]\n",
    "\n",
    "if  neuron_number==0:\n",
    "  \n",
    " neuron_number =inputshape_Timestamps * no_feature\n",
    " print(f\"Initialize no.node from backward step x feature = {inputshape_Timestamps} x {no_feature} = {neuron_number}\")     \n",
    "else:\n",
    " print(f\"Defined manually no.node ={neuron_number}\")\n",
    "\n",
    "step_neuron=int(neuron_number)\n",
    "max_neuron=int(step_neuron*mx_step)\n",
    "print(f\"Train Row : {x_train.shape[0]}\")\n",
    "print(f\"{inputshape_Timestamps}(backward step) x {no_feature}(features) = {neuron_number}, it is total no.NN  to predict future {n_output_neurons} with Hidden Node Unit from {step_neuron} to {max_neuron}\")\n",
    "    \n",
    "neuron_list = [*range(neuron_number, max_neuron+step_neuron, step_neuron)]\n",
    "\n",
    "drop_list=np.arange (min_drop, max_drop ,step_drop)\n",
    "drop_list=np.append(drop_list,[max_drop])\n",
    "\n",
    "if len(learingRatelist)>0:\n",
    "    allPosComb=len(neuron_list)*len(drop_list)*len(learingRatelist)\n",
    "    print(f\"{neuron_list} and {drop_list} and {learingRatelist}\")\n",
    "    print(f\"all combination : {len(neuron_list)} x {len(drop_list)} * {len(learingRatelist)} = {allPosComb}\")\n",
    "else:\n",
    "    allPosComb=len(neuron_list)*len(drop_list)\n",
    "    print(f\"{neuron_list} and {drop_list}\")\n",
    "    print(f\"all combination : {len(neuron_list)} x {len(drop_list)} = {allPosComb}\")\n",
    "\n",
    "\n",
    "nMax_trials=math.ceil(allPosComb*ratio_traial_max)\n",
    "nMax_trials=nMax_trials*mxMultipleStep\n",
    "\n",
    "if nMax_trials<defaultMaxTrail: \n",
    "    nMax_trials=defaultMaxTrail\n",
    "\n",
    "nMax_trials=nMax_trials*1\n",
    "print(\"MAx run :\" ,nMax_trials , \"each trail run to essemble \",nExecutions_per_trial)"
   ]
  },
  {
   "cell_type": "markdown",
   "metadata": {},
   "source": [
    "# NetWork Architeture Model Design"
   ]
  },
  {
   "cell_type": "code",
   "execution_count": 54,
   "metadata": {},
   "outputs": [],
   "source": [
    "def build_singel_hidder_layer_model_way(hp):\n",
    "    \n",
    "    model = Sequential()\n",
    "\n",
    "    model.add(LSTM( hp.Int('input_unit',min_value=neuron_number ,max_value=max_neuron,step=step_neuron) \\\n",
    "                   , return_sequences=False, input_shape=(inputshape_Timestamps,no_feature)))\n",
    "    \n",
    "    model.add(Dropout(hp.Float('Dropout_rate',min_value=min_drop,max_value=max_drop,step=step_drop))) \n",
    "\n",
    "    model.add(Dense(n_output_neurons))\n",
    "    \n",
    "    # hp_learning_rate = hp.Float(\"lr\", min_value=min_rl, max_value=max_rl, sampling=\"log\")\n",
    "    if len(learingRatelist)>0:\n",
    "        hp_learning_rate = hp.Choice('learning_rate', values=learingRatelist) \n",
    "        print(hp_learning_rate)\n",
    "        model.compile(optimizer=tf.keras.optimizers.Adam(learning_rate=hp_learning_rate), loss=main_loss, metrics=[main_obj_metric])\n",
    "    else:\n",
    "        print(hp_learning_rate)\n",
    "        model.compile(optimizer=\"adam\", loss=main_loss, metrics=[main_obj_metric])\n",
    "    return model\n",
    "\n",
    "\n",
    "def build_2hidden_layer_model_way(hp):\n",
    "    \n",
    "    model = Sequential()\n",
    "\n",
    "    model.add(LSTM( hp.Int('input_unit_1',min_value=neuron_number ,max_value=max_neuron,step=step_neuron) \\\n",
    "                   , return_sequences=True, input_shape=(inputshape_Timestamps,no_feature)))\n",
    "   \n",
    "    model.add(Dropout(hp.Float('Dropout_rate',min_value=min_drop,max_value=max_drop,step=step_drop)))\n",
    "    \n",
    "    model.add(LSTM(hp.Int('hidden_layer_2',min_value=neuron_number,max_value=max_neuron,step=step_neuron) \\\n",
    "                  ,return_sequences=False ))\n",
    "        \n",
    "    model.add(Dropout(hp.Float('Dropout2_rate',min_value=min_drop,max_value=max_drop,step=step_drop)))\n",
    "\n",
    "    model.add(Dense(n_output_neurons))\n",
    "    \n",
    "    if len(learingRatelist)>0:\n",
    "\n",
    "        hp_learning_rate = hp.Choice('learning_rate', values=learingRatelist) \n",
    "        model.compile(optimizer=tf.keras.optimizers.Adam(learning_rate=hp_learning_rate), loss=main_loss, metrics=[main_obj_metric])\n",
    "    else:\n",
    "        model.compile(optimizer=\"adam\", loss=main_loss, metrics=[main_obj_metric])\n",
    "        \n",
    "\n",
    "    return model"
   ]
  },
  {
   "cell_type": "markdown",
   "metadata": {},
   "source": [
    "# Start Tuning "
   ]
  },
  {
   "cell_type": "code",
   "execution_count": 55,
   "metadata": {},
   "outputs": [
    {
     "name": "stdout",
     "output_type": "stream",
     "text": [
      "290324_1315\n",
      "Start tund at 2024-03-29 13:15:06.142338\n"
     ]
    }
   ],
   "source": [
    "buildtime = datetime.now().strftime('%d%m%y_%H%M')\n",
    "project_model=f\"{buildtime}\"\n",
    "print(project_model)\n",
    "\n",
    "\n",
    "t_Start=time.time()\n",
    "\n",
    "print(f\"Start tund at {datetime.now()}\")"
   ]
  },
  {
   "cell_type": "code",
   "execution_count": null,
   "metadata": {},
   "outputs": [
    {
     "name": "stdout",
     "output_type": "stream",
     "text": [
      "bayesian\n",
      "\n",
      "Search: Running Trial #1\n",
      "\n",
      "Value             |Best Value So Far |Hyperparameter\n",
      "120               |120               |input_unit_1\n",
      "0                 |0                 |Dropout_rate\n",
      "180               |180               |hidden_layer_2\n",
      "0                 |0                 |Dropout2_rate\n",
      "\n",
      "Epoch 1/200\n",
      "56/56 [==============================] - 17s 151ms/step - loss: 0.0382 - mean_absolute_error: 0.0382 - val_loss: 0.0661 - val_mean_absolute_error: 0.0661\n",
      "Epoch 2/200\n",
      "47/56 [========================>.....] - ETA: 0s - loss: 0.0762 - mean_absolute_error: 0.0762"
     ]
    }
   ],
   "source": [
    "# bayesian=1 or hypterband=2\n",
    "print(opitmizer_algo)\n",
    "if opitmizer_algo==\"bayesian\":\n",
    "# https://keras.io/api/keras_tuner/tuners/bayesian/\n",
    "    tuner = kt.BayesianOptimization(\n",
    "            build_2hidden_layer_model_way,\n",
    "            objective=main_obj_metric,\n",
    "            max_trials=nMax_trials,\n",
    "            seed=seed,\n",
    "            executions_per_trial=nExecutions_per_trial,\n",
    "            directory=f\"tuning/{tune_folder}/\",\n",
    "            project_name= project_model\n",
    "            )\n",
    "else:\n",
    "# https://keras.io/api/keras_tuner/tuners/hyperband/\n",
    "    tuner = kt.Hyperband(\n",
    "        build_2hidden_layer_model_way, objective=main_obj_metric,max_epochs=n_epochs,\n",
    "        directory=f\"tuning/{tune_folder}/\",project_name= project_model)\n",
    "\n",
    "\n",
    "early_stop = EarlyStopping(monitor='val_loss', patience=n_early, verbose=1)\n",
    "\n",
    "log_dir = f\"{tsb_path}\" + datetime.now().strftime(\"%Y%m%d-%H%M\")\n",
    "tensorboard_callback = tf.keras.callbacks.TensorBoard(log_dir=log_dir)\n",
    "\n",
    "tuner.search(x_train, y_train, batch_size=n_batch_size, epochs=n_epochs,\n",
    "                        validation_data=(x_test, y_test),\n",
    "                        shuffle=False,verbose=1,callbacks=[early_stop,tensorboard_callback])\n",
    "\n"
   ]
  },
  {
   "cell_type": "code",
   "execution_count": null,
   "metadata": {},
   "outputs": [],
   "source": [
    "print(\"Space to search\")\n",
    "tuner.search_space_summary()\n",
    "print(f\"Suumary of {nMax_trials}\")\n",
    "tuner.results_summary()"
   ]
  },
  {
   "cell_type": "code",
   "execution_count": null,
   "metadata": {},
   "outputs": [],
   "source": [
    "t_End=time.time()\n",
    "t_elapsed=(t_End-t_Start)/60/60\n",
    "print('Total execution : ',round(t_elapsed,2)) \n",
    "print(datetime.now())"
   ]
  },
  {
   "cell_type": "markdown",
   "metadata": {},
   "source": [
    "# Load Tensorflow to look into train result more deeply"
   ]
  },
  {
   "cell_type": "code",
   "execution_count": null,
   "metadata": {},
   "outputs": [],
   "source": [
    "# # # Load the TensorBoard notebook extension\n",
    "# # # %tensorboard --logdir tsb_logs/tune/\n",
    "# # load and comment to use notebook\n",
    "# %tensorboard --logdir tsb_logs/tune/  --host 0.0.0.0\n",
    "# from tensorboard import notebook\n",
    "# notebook.list() # View open TensorBoard instances\n",
    "# # Control TensorBoard display. If no port is provided, \n",
    "# # the most recently launched TensorBoard is used\n",
    "# notebook.display(port=6006, height=1000)"
   ]
  },
  {
   "cell_type": "markdown",
   "metadata": {},
   "source": [
    "# Get Optimal HyperParamters"
   ]
  },
  {
   "cell_type": "code",
   "execution_count": null,
   "metadata": {},
   "outputs": [],
   "source": [
    "best_hps=tuner.get_best_hyperparameters(num_trials=1)[0]\n",
    "print(best_hps.values)\n",
    "print(\"build model from  the best tuning\")\n",
    "\n",
    "# model=tuner.get_best_models(num_models=1)[0]\n",
    "\n",
    "model = tuner.hypermodel.build(best_hps)\n",
    "print(model.summary())"
   ]
  },
  {
   "cell_type": "code",
   "execution_count": null,
   "metadata": {},
   "outputs": [],
   "source": []
  },
  {
   "cell_type": "code",
   "execution_count": null,
   "metadata": {},
   "outputs": [],
   "source": []
  },
  {
   "cell_type": "markdown",
   "metadata": {},
   "source": [
    "# Training the TUNED Model "
   ]
  },
  {
   "cell_type": "code",
   "execution_count": null,
   "metadata": {},
   "outputs": [],
   "source": [
    "print(f\"Training the Best Model with early stop at {n_early}\")\n",
    "t_Start=time.time()\n",
    "print(datetime.now())\n",
    "\n",
    "\n",
    "early_stop = EarlyStopping(monitor='val_loss', patience=n_early, verbose=1)\n",
    "history = model.fit(x_train, y_train, \n",
    "                batch_size=n_batch_size, \n",
    "                epochs=n_epochs,\n",
    "                shuffle=False,\n",
    "                validation_data=(x_test, y_test),\n",
    "                verbose=2, callbacks=[early_stop]\n",
    "               )\n",
    "        \n",
    "t_End=time.time()\n",
    "t_elapsed=(t_End-t_Start)/60/60\n",
    "print('Total execute making report : ',round(t_elapsed,2)) \n",
    "print(datetime.now())"
   ]
  },
  {
   "cell_type": "code",
   "execution_count": null,
   "metadata": {},
   "outputs": [],
   "source": [
    "val_per_epoch = history.history[main_obj_metric]\n",
    "best_epoch = len(val_per_epoch) + 1\n",
    "print('Best epoch: %d' % (best_epoch,))"
   ]
  },
  {
   "cell_type": "code",
   "execution_count": null,
   "metadata": {},
   "outputs": [],
   "source": [
    "print(\"List Metrics\")\n",
    "for key in history.history.keys():\n",
    "    print(key)\n",
    "print(\"=====================================================\")    \n",
    "# Evaluate the model on the test data using `evaluate`\n",
    "#https://www.tensorflow.org/guide/keras/train_and_evaluate\n",
    "print(\"Evaluate on test data\")\n",
    "results = model.evaluate(x_test, y_test, batch_size=n_batch_size)\n",
    "print(\"test loss, test acc:\", results)"
   ]
  },
  {
   "cell_type": "code",
   "execution_count": null,
   "metadata": {},
   "outputs": [],
   "source": [
    "plt.title(main_obj_metric)\n",
    "plt.plot(history.history[main_obj_metric], label='train')\n",
    "plt.plot(history.history[f'val_{main_obj_metric}'], label='test')\n",
    "plt.legend()\n",
    "plt.show()"
   ]
  },
  {
   "cell_type": "code",
   "execution_count": null,
   "metadata": {},
   "outputs": [],
   "source": [
    "plt.title(f\"Train/Test Loss - {main_loss}\")\n",
    "plt.plot(history.history['loss'], label='train')\n",
    "plt.plot(history.history['val_loss'], label='test')\n",
    "plt.legend()\n",
    "plt.show()"
   ]
  },
  {
   "cell_type": "markdown",
   "metadata": {},
   "source": [
    "# Step #5 Evaluate Model Performance"
   ]
  },
  {
   "cell_type": "code",
   "execution_count": null,
   "metadata": {},
   "outputs": [],
   "source": [
    "# Get the predicted values\n",
    "y_pred_scaled = model.predict(x_test)\n",
    "print(x_test.shape,y_pred_scaled.shape)"
   ]
  },
  {
   "cell_type": "code",
   "execution_count": null,
   "metadata": {},
   "outputs": [],
   "source": [
    "\n",
    "# Unscale the predicted values\n",
    "y_pred = scaler_pred.inverse_transform(y_pred_scaled)\n",
    "y_test_unscaled = scaler_pred.inverse_transform(y_test).reshape(-1, output_sequence_length)\n",
    "\n",
    "print(y_test_unscaled.shape)\n",
    "print(y_test_unscaled[:5])\n",
    "print(y_pred.shape)\n",
    "print(y_pred[:5])"
   ]
  },
  {
   "cell_type": "code",
   "execution_count": null,
   "metadata": {},
   "outputs": [],
   "source": [
    "dfTestActual=pd.DataFrame(data=y_test_unscaled, \\\n",
    "                          columns=[ f\"Step{x}-{prediction_col}\"  for x in range(1,output_sequence_length+1,1)])\n",
    "dfTestPred=pd.DataFrame(data=y_pred, \\\n",
    "                          columns=[ f\"Step{x}-Pred-{prediction_col}\"  for x in range(1,output_sequence_length+1,1)]) \n",
    "dfActualPred=pd.concat([dfTestActual,dfTestPred],axis=1)\n",
    "ActualPredcols=sorted(dfActualPred.columns.tolist())\n",
    "dfActualPred=dfActualPred[ActualPredcols]\n",
    "dfActualPred.head(3)"
   ]
  },
  {
   "cell_type": "code",
   "execution_count": null,
   "metadata": {},
   "outputs": [],
   "source": [
    "# Mean Absolute Error (MAE)\n",
    "MAE = mean_absolute_error(y_test_unscaled, y_pred)\n",
    "print(f'Mean Absolute Error (MAE): {np.round(MAE, 2)}')\n",
    "print(\"===========================================================================\")\n",
    "\n",
    "MAPE = np.mean((np.abs(np.subtract(y_test_unscaled, y_pred)/ y_test_unscaled))) * 100\n",
    "print(f'Mean Absolute Percentage Error (MAPE): {np.round(MAPE, 2)} %')\n",
    "\n",
    "\n",
    "# Root Mean  Squre Error\n",
    "# RMSE = math.sqrt( mean_squared_error(y_test_unscaled, y_pred))\n",
    "# print(f'Root MEAN Square Error(RMSE): {np.round(RMSE, 2)}')\n"
   ]
  },
  {
   "cell_type": "markdown",
   "metadata": {},
   "source": [
    "# Plot Multiple Forcast (Most Complex Step)"
   ]
  },
  {
   "cell_type": "code",
   "execution_count": null,
   "metadata": {},
   "outputs": [],
   "source": [
    "def prepare_df(i, x, y, y_pred_unscaled):\n",
    "    # Undo the scaling on x, reshape the testset into a one-dimensional array, so that it fits to the pred scaler\n",
    "    x_test_unscaled_df = pd.DataFrame(scaler_pred.inverse_transform((x[i]))[:,index_Prediction])\\\n",
    "    .rename(columns={0:'x_test'})\n",
    "    \n",
    "    y_test_unscaled_df = []\n",
    "    # Undo the scaling on y\n",
    "    if type(y) == np.ndarray:\n",
    "        y_test_unscaled_df = pd.DataFrame(scaler_pred.inverse_transform(y)[i]).rename(columns={0:'y_test'})\n",
    "\n",
    "    # Create a dataframe for the y_pred at position i, y_pred is already unscaled\n",
    "    y_pred_df = pd.DataFrame(y_pred_unscaled[i]).rename(columns={0:'y_pred'})\n",
    "    return x_test_unscaled_df, y_pred_df, y_test_unscaled_df\n",
    "\n",
    "\n",
    "def plot_multi_test_forecast(x_test_unscaled_df, y_test_unscaled_df, y_pred_df, title): \n",
    "    # Package y_pred_unscaled and y_test_unscaled into a dataframe with columns pred and true   \n",
    "    if type(y_test_unscaled_df) == pd.core.frame.DataFrame:\n",
    "        df_merge = y_pred_df.join(y_test_unscaled_df, how='left')\n",
    "    else:\n",
    "        df_merge = y_pred_df.copy()\n",
    "    \n",
    "    # Merge the dataframes \n",
    "    df_merge_ = pd.concat([x_test_unscaled_df, df_merge]).reset_index(drop=True)\n",
    "    \n",
    "    # Plot the linecharts\n",
    "    fig, ax = plt.subplots(figsize=(20, 8))\n",
    "    plt.title(title, fontsize=12)\n",
    "    ax.set(ylabel = f\"{asset_name}-{prediction_col}\")\n",
    "    sns.lineplot(data = df_merge_, linewidth=2.0, ax=ax)\n",
    "\n"
   ]
  },
  {
   "cell_type": "markdown",
   "metadata": {},
   "source": [
    "# Step #6 Create a new Forecast"
   ]
  },
  {
   "cell_type": "code",
   "execution_count": null,
   "metadata": {},
   "outputs": [],
   "source": [
    "x_test_latest_batch = np_scaled[-(input_sequence_length+1):-1,:].reshape(1,input_sequence_length,len(feature_cols))\n",
    "print(f\"{x_test_latest_batch.shape} is the latest input batch from the test dataset, which is contains the price values for the last {input_sequence_length} trading days\")\n",
    "\n",
    "x_test_latest_batch"
   ]
  },
  {
   "cell_type": "code",
   "execution_count": null,
   "metadata": {},
   "outputs": [],
   "source": [
    "y_pred_scaled = model.predict(x_test_latest_batch)\n",
    "y_pred_unscaled = scaler_pred.inverse_transform(y_pred_scaled)\n",
    "print(f\"Predict on the inverse transformed batch {y_pred_unscaled.shape}\")\n",
    "print(y_pred_unscaled)"
   ]
  },
  {
   "cell_type": "code",
   "execution_count": null,
   "metadata": {},
   "outputs": [],
   "source": [
    "print(\"Prepare the data and plot the input data and the predictions\")\n",
    "x_test_unscaled_df, y_test_unscaled_df, _ = prepare_df(0, x_test_latest_batch, '', y_pred_unscaled)\n",
    "print(f\"X-Test= {x_test_unscaled_df.shape}\")\n",
    "print(f\"Y-Test= {y_test_unscaled_df.shape}\")\n",
    "\n",
    "# print(x_test_unscaled_df.tail(len(y_test_unscaled_df)))\n",
    "# print(y_test_unscaled_df.tail(len(y_test_unscaled_df)))"
   ]
  },
  {
   "cell_type": "code",
   "execution_count": null,
   "metadata": {},
   "outputs": [],
   "source": [
    "plot_multi_test_forecast(x_test_unscaled_df, '',y_test_unscaled_df, \"x_new Vs. y_new_pred\")"
   ]
  },
  {
   "cell_type": "markdown",
   "metadata": {},
   "source": [
    "#### "
   ]
  },
  {
   "cell_type": "markdown",
   "metadata": {},
   "source": [
    "# Create Final Model"
   ]
  },
  {
   "cell_type": "code",
   "execution_count": 46,
   "metadata": {},
   "outputs": [
    {
     "name": "stdout",
     "output_type": "stream",
     "text": [
      "Convert the data to numpy arrays value\n",
      "(2281, 1)\n",
      "(2281, 1)\n",
      "(2281, 1) (2281, 1)\n"
     ]
    }
   ],
   "source": [
    "dfAll=df.sort_values(by=[date_col]).copy()\n",
    "npAll_unscaled, npPredictCol_unscaled = prepare_data(dfAll) \n",
    "print(npAll_unscaled.shape,npPredictCol_unscaled.shape)"
   ]
  },
  {
   "cell_type": "code",
   "execution_count": 47,
   "metadata": {},
   "outputs": [
    {
     "name": "stdout",
     "output_type": "stream",
     "text": [
      "(2281, 1) (2281, 1)\n",
      "[[0.06523534]\n",
      " [0.06237959]]\n",
      "[[0.06523534]\n",
      " [0.06237959]]\n"
     ]
    }
   ],
   "source": [
    "scalerFinalTrain = MinMaxScaler()\n",
    "scalerFinalPred = MinMaxScaler()\n",
    "npAll_scaled = scalerFinalTrain.fit_transform(npAll_unscaled)\n",
    "npAllPredictCol_scaled = scalerFinalPred.fit_transform(npPredictCol_unscaled)\n",
    "print(npAll_scaled.shape,npAllPredictCol_scaled.shape)\n",
    "print(npAll_scaled[:2])\n",
    "print(npAllPredictCol_scaled[:2])"
   ]
  },
  {
   "cell_type": "code",
   "execution_count": 48,
   "metadata": {},
   "outputs": [
    {
     "name": "stdout",
     "output_type": "stream",
     "text": [
      "We will tranin (2216, 60, 1),(2216, 5) with batch=32 and best epoch=20\n"
     ]
    }
   ],
   "source": [
    "x_all, y_all = partition_dataset(input_sequence_length, output_sequence_length,npAll_scaled)\n",
    "print(f\"We will tranin {x_all.shape},{y_all.shape} with batch={n_batch_size} and best epoch={best_epoch}\")"
   ]
  },
  {
   "cell_type": "code",
   "execution_count": 49,
   "metadata": {},
   "outputs": [
    {
     "name": "stdout",
     "output_type": "stream",
     "text": [
      "Training All\n",
      "2024-01-27 22:01:35.856060\n",
      "Epoch 1/20\n",
      "70/70 [==============================] - 15s 177ms/step - loss: 0.0219 - mean_absolute_error: 0.0219\n",
      "Epoch 2/20\n",
      "70/70 [==============================] - 11s 161ms/step - loss: 0.0365 - mean_absolute_error: 0.0365\n",
      "Epoch 3/20\n",
      "70/70 [==============================] - 10s 141ms/step - loss: 0.0495 - mean_absolute_error: 0.0495\n",
      "Epoch 4/20\n",
      "70/70 [==============================] - 10s 141ms/step - loss: 0.0195 - mean_absolute_error: 0.0195\n",
      "Epoch 5/20\n",
      "70/70 [==============================] - 10s 140ms/step - loss: 0.0260 - mean_absolute_error: 0.0260\n",
      "Epoch 6/20\n",
      "70/70 [==============================] - 10s 141ms/step - loss: 0.0178 - mean_absolute_error: 0.0178\n",
      "Epoch 7/20\n",
      "70/70 [==============================] - 10s 141ms/step - loss: 0.0222 - mean_absolute_error: 0.0222\n",
      "Epoch 8/20\n",
      "70/70 [==============================] - 10s 142ms/step - loss: 0.0236 - mean_absolute_error: 0.0236\n",
      "Epoch 9/20\n",
      "70/70 [==============================] - 10s 141ms/step - loss: 0.0471 - mean_absolute_error: 0.0471\n",
      "Epoch 10/20\n",
      "70/70 [==============================] - 10s 141ms/step - loss: 0.0236 - mean_absolute_error: 0.0236\n",
      "Epoch 11/20\n",
      "70/70 [==============================] - 10s 141ms/step - loss: 0.0270 - mean_absolute_error: 0.0270\n",
      "Epoch 12/20\n",
      "70/70 [==============================] - 10s 141ms/step - loss: 0.0229 - mean_absolute_error: 0.0229\n",
      "Epoch 13/20\n",
      "70/70 [==============================] - 10s 142ms/step - loss: 0.0199 - mean_absolute_error: 0.0199\n",
      "Epoch 14/20\n",
      "70/70 [==============================] - 10s 141ms/step - loss: 0.0194 - mean_absolute_error: 0.0194\n",
      "Epoch 15/20\n",
      "70/70 [==============================] - 10s 141ms/step - loss: 0.0188 - mean_absolute_error: 0.0188\n",
      "Epoch 16/20\n",
      "70/70 [==============================] - 10s 141ms/step - loss: 0.0168 - mean_absolute_error: 0.0168\n",
      "Epoch 17/20\n",
      "70/70 [==============================] - 10s 141ms/step - loss: 0.0186 - mean_absolute_error: 0.0186\n",
      "Epoch 18/20\n",
      "70/70 [==============================] - 10s 141ms/step - loss: 0.0168 - mean_absolute_error: 0.0168\n",
      "Epoch 19/20\n",
      "70/70 [==============================] - 10s 142ms/step - loss: 0.0231 - mean_absolute_error: 0.0231\n",
      "Epoch 20/20\n",
      "70/70 [==============================] - 10s 141ms/step - loss: 0.0225 - mean_absolute_error: 0.0225\n",
      "Total execute making report :  0.06\n",
      "2024-01-27 22:04:59.942692\n"
     ]
    }
   ],
   "source": [
    "print(f\"Training All\")\n",
    "t_Start=time.time()\n",
    "print(datetime.now())\n",
    "\n",
    "history_final=model.fit(x=x_all, y=y_all, batch_size=n_batch_size, epochs=best_epoch,shuffle=False)\n",
    "        \n",
    "t_End=time.time()\n",
    "t_elapsed=(t_End-t_Start)/60/60\n",
    "print('Total execute making report : ',round(t_elapsed,2)) \n",
    "print(datetime.now())"
   ]
  },
  {
   "cell_type": "code",
   "execution_count": 50,
   "metadata": {},
   "outputs": [
    {
     "data": {
      "image/png": "[encoded data removed]",
      "text/plain": [
       "<Figure size 1000x500 with 1 Axes>"
      ]
     },
     "metadata": {},
     "output_type": "display_data"
    }
   ],
   "source": [
    "# Plot training & validation loss values\n",
    "fig, ax = plt.subplots(figsize=(10, 5), sharex=True)\n",
    "plt.plot(history_final.history[\"loss\"])\n",
    "plt.title(\"Model loss\")\n",
    "plt.ylabel(\"Loss\")\n",
    "plt.xlabel(\"Epoch\")\n",
    "ax.xaxis.set_major_locator(plt.MaxNLocator(n_epochs))\n",
    "plt.legend([\"All Data\"], loc=\"upper left\")\n",
    "plt.grid()\n",
    "plt.show()"
   ]
  },
  {
   "cell_type": "code",
   "execution_count": 51,
   "metadata": {},
   "outputs": [
    {
     "name": "stdout",
     "output_type": "stream",
     "text": [
      "Save model and scaler\n"
     ]
    },
    {
     "data": {
      "text/plain": [
       "['train_model/scaler_pred_EMA1_60To5_SPY_E150S15B32-M0115-0124.gz']"
      ]
     },
     "execution_count": 51,
     "metadata": {},
     "output_type": "execute_result"
    }
   ],
   "source": [
    "print(\"Save model and scaler\")\n",
    "\n",
    "#modelName='test2022-20for10'\n",
    "file_model=f'{model_path}/{modelName}_ma.h5'\n",
    "file_scaler=f'{model_path}/scaler_{modelName}.gz'\n",
    "file_scaler_pred=f'{model_path}/scaler_pred_{modelName}.gz'\n",
    "\n",
    "model.save(file_model)\n",
    "\n",
    "joblib.dump(scalerFinalTrain,file_scaler)\n",
    "joblib.dump(scalerFinalPred ,file_scaler_pred)"
   ]
  },
  {
   "cell_type": "code",
   "execution_count": null,
   "metadata": {},
   "outputs": [],
   "source": []
  },
  {
   "cell_type": "code",
   "execution_count": null,
   "metadata": {},
   "outputs": [],
   "source": []
  },
  {
   "cell_type": "code",
   "execution_count": null,
   "metadata": {},
   "outputs": [],
   "source": []
  },
  {
   "cell_type": "code",
   "execution_count": null,
   "metadata": {},
   "outputs": [],
   "source": []
  }
 ],
 "metadata": {
  "kernelspec": {
   "display_name": "Python 3 (ipykernel)",
   "language": "python",
   "name": "python3"
  },
  "language_info": {
   "codemirror_mode": {
    "name": "ipython",
    "version": 3
   },
   "file_extension": ".py",
   "mimetype": "text/x-python",
   "name": "python",
   "nbconvert_exporter": "python",
   "pygments_lexer": "ipython3",
   "version": "3.9.16"
  },
  "vscode": {
   "interpreter": {
    "hash": "cdb995469269d53d5ebc14eb4bb889bd554e0493b704e0e84f3a885021cdd43e"
   }
  }
 },
 "nbformat": 4,
 "nbformat_minor": 4
}
