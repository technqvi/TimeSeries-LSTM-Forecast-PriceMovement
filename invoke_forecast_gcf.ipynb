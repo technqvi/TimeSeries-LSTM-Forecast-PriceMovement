{
 "cells": [
  {
   "cell_type": "code",
   "execution_count": 29,
   "id": "8abdb76e-97fa-4e24-ade6-8de09637d32a",
   "metadata": {},
   "outputs": [],
   "source": [
    "import pandas as pd\n",
    "import os\n",
    "import json\n",
    "import requests\n",
    "import google.oauth2.id_token\n",
    "import google.auth.transport.requests"
   ]
  },
  {
   "cell_type": "code",
   "execution_count": 31,
   "id": "b4c73149-e457-4303-a730-051a4b5510f1",
   "metadata": {},
   "outputs": [],
   "source": [
    "startX='2023-05-31'  # startX='2023-06-05'  # use 60 past days since 2023-06-01   to predict 2026-06-02 To 2026-06-11'\n",
    "endX='2023-07-05'  # endX='2023-06-26'\n",
    "\n",
    "#model_id='qqq-ema1-30t5-ds0115t0523' \n",
    "model_id='spy-signal-60t10-ds0115t0523'\n",
    "#model_id='spy-ema1-60t10-ds0115t0523' \n",
    "\n",
    "#spy-ema1-60t10-ds0115t0523 spy-signal-60t10-ds0115t0523\n",
    "\n",
    "audience_url='https://forecast-fin-asset-ts-movement-qulerxpcqq-as.a.run.app'\n",
    "\n",
    "request = google.auth.transport.requests.Request()  # default project\n",
    "TOKEN = google.oauth2.id_token.fetch_id_token(request, audience_url)"
   ]
  },
  {
   "cell_type": "code",
   "execution_count": null,
   "id": "6bd063aa-b880-447c-b531-37e9d6abc7b1",
   "metadata": {},
   "outputs": [],
   "source": []
  },
  {
   "cell_type": "code",
   "execution_count": 32,
   "id": "62df4a15-eace-4dab-a5ab-15c175868e0a",
   "metadata": {},
   "outputs": [],
   "source": [
    "def make_forecast_x(date_input):\n",
    "    post_data={\n",
    "    \"TODAY\": date_input ,\n",
    "    \"MODEL_ID\":model_id,\n",
    "    }\n",
    "    print(post_data)\n",
    "\n",
    "    r = requests.post(\n",
    "    audience_url, \n",
    "    headers={'Authorization': f\"Bearer {TOKEN}\", \"Content-Type\": \"application/json\"},\n",
    "    data=json.dumps(post_data)  # possible request parameters\n",
    "    )\n",
    "    print(f\"{r.ok} - {r.status_code} - {r.reason} - {r.text}\")\n"
   ]
  },
  {
   "cell_type": "code",
   "execution_count": 33,
   "id": "2ad29ac6-63f3-4667-9a47-783411083344",
   "metadata": {},
   "outputs": [
    {
     "name": "stdout",
     "output_type": "stream",
     "text": [
      "=================trading day : 2023-05-31==================\n",
      "{'TODAY': '2023-05-31', 'MODEL_ID': 'spy-signal-60t10-ds0115t0523'}\n",
      "True - 200 - OK - The system has done predicting price movement of SPY-SIGNAL-2023-05-31.\n",
      "=================trading day : 2023-06-01==================\n",
      "{'TODAY': '2023-06-01', 'MODEL_ID': 'spy-signal-60t10-ds0115t0523'}\n",
      "True - 200 - OK - The system has done predicting price movement of SPY-SIGNAL-2023-06-01.\n",
      "=================trading day : 2023-06-02==================\n",
      "{'TODAY': '2023-06-02', 'MODEL_ID': 'spy-signal-60t10-ds0115t0523'}\n",
      "True - 200 - OK - The system has done predicting price movement of SPY-SIGNAL-2023-06-02.\n",
      "=================trading day : 2023-06-05==================\n",
      "{'TODAY': '2023-06-05', 'MODEL_ID': 'spy-signal-60t10-ds0115t0523'}\n",
      "True - 200 - OK - The system has done predicting price movement of SPY-SIGNAL-2023-06-05.\n",
      "=================trading day : 2023-06-06==================\n",
      "{'TODAY': '2023-06-06', 'MODEL_ID': 'spy-signal-60t10-ds0115t0523'}\n",
      "True - 200 - OK - The system has done predicting price movement of SPY-SIGNAL-2023-06-06.\n",
      "=================trading day : 2023-06-07==================\n",
      "{'TODAY': '2023-06-07', 'MODEL_ID': 'spy-signal-60t10-ds0115t0523'}\n",
      "True - 200 - OK - The system has done predicting price movement of SPY-SIGNAL-2023-06-07.\n",
      "=================trading day : 2023-06-08==================\n",
      "{'TODAY': '2023-06-08', 'MODEL_ID': 'spy-signal-60t10-ds0115t0523'}\n",
      "True - 200 - OK - The system has done predicting price movement of SPY-SIGNAL-2023-06-08.\n",
      "=================trading day : 2023-06-09==================\n",
      "{'TODAY': '2023-06-09', 'MODEL_ID': 'spy-signal-60t10-ds0115t0523'}\n",
      "True - 200 - OK - The system has done predicting price movement of SPY-SIGNAL-2023-06-09.\n",
      "=================trading day : 2023-06-12==================\n",
      "{'TODAY': '2023-06-12', 'MODEL_ID': 'spy-signal-60t10-ds0115t0523'}\n",
      "True - 200 - OK - The system has done predicting price movement of SPY-SIGNAL-2023-06-12.\n",
      "=================trading day : 2023-06-13==================\n",
      "{'TODAY': '2023-06-13', 'MODEL_ID': 'spy-signal-60t10-ds0115t0523'}\n",
      "True - 200 - OK - The system has done predicting price movement of SPY-SIGNAL-2023-06-13.\n",
      "=================trading day : 2023-06-14==================\n",
      "{'TODAY': '2023-06-14', 'MODEL_ID': 'spy-signal-60t10-ds0115t0523'}\n",
      "True - 200 - OK - The system has done predicting price movement of SPY-SIGNAL-2023-06-14.\n",
      "=================trading day : 2023-06-15==================\n",
      "{'TODAY': '2023-06-15', 'MODEL_ID': 'spy-signal-60t10-ds0115t0523'}\n",
      "True - 200 - OK - The system has done predicting price movement of SPY-SIGNAL-2023-06-15.\n",
      "=================trading day : 2023-06-16==================\n",
      "{'TODAY': '2023-06-16', 'MODEL_ID': 'spy-signal-60t10-ds0115t0523'}\n",
      "True - 200 - OK - The system has done predicting price movement of SPY-SIGNAL-2023-06-16.\n",
      "=================trading day : 2023-06-20==================\n",
      "{'TODAY': '2023-06-20', 'MODEL_ID': 'spy-signal-60t10-ds0115t0523'}\n",
      "True - 200 - OK - The system has done predicting price movement of SPY-SIGNAL-2023-06-20.\n",
      "=================trading day : 2023-06-21==================\n",
      "{'TODAY': '2023-06-21', 'MODEL_ID': 'spy-signal-60t10-ds0115t0523'}\n",
      "True - 200 - OK - The system has done predicting price movement of SPY-SIGNAL-2023-06-21.\n",
      "=================trading day : 2023-06-22==================\n",
      "{'TODAY': '2023-06-22', 'MODEL_ID': 'spy-signal-60t10-ds0115t0523'}\n",
      "True - 200 - OK - The system has done predicting price movement of SPY-SIGNAL-2023-06-22.\n",
      "=================trading day : 2023-06-23==================\n",
      "{'TODAY': '2023-06-23', 'MODEL_ID': 'spy-signal-60t10-ds0115t0523'}\n",
      "True - 200 - OK - The system has done predicting price movement of SPY-SIGNAL-2023-06-23.\n",
      "=================trading day : 2023-06-26==================\n",
      "{'TODAY': '2023-06-26', 'MODEL_ID': 'spy-signal-60t10-ds0115t0523'}\n",
      "True - 200 - OK - The system has done predicting price movement of SPY-SIGNAL-2023-06-26.\n",
      "=================trading day : 2023-06-27==================\n",
      "{'TODAY': '2023-06-27', 'MODEL_ID': 'spy-signal-60t10-ds0115t0523'}\n",
      "True - 200 - OK - The system has done predicting price movement of SPY-SIGNAL-2023-06-27.\n",
      "=================trading day : 2023-06-28==================\n",
      "{'TODAY': '2023-06-28', 'MODEL_ID': 'spy-signal-60t10-ds0115t0523'}\n",
      "True - 200 - OK - The system has done predicting price movement of SPY-SIGNAL-2023-06-28.\n",
      "=================trading day : 2023-06-29==================\n",
      "{'TODAY': '2023-06-29', 'MODEL_ID': 'spy-signal-60t10-ds0115t0523'}\n",
      "True - 200 - OK - The system has done predicting price movement of SPY-SIGNAL-2023-06-29.\n",
      "=================trading day : 2023-06-30==================\n",
      "{'TODAY': '2023-06-30', 'MODEL_ID': 'spy-signal-60t10-ds0115t0523'}\n",
      "True - 200 - OK - The system has done predicting price movement of SPY-SIGNAL-2023-06-30.\n",
      "=================trading day : 2023-07-03==================\n",
      "{'TODAY': '2023-07-03', 'MODEL_ID': 'spy-signal-60t10-ds0115t0523'}\n",
      "True - 200 - OK - The system has done predicting price movement of SPY-SIGNAL-2023-07-03.\n",
      "=================trading day : 2023-07-05==================\n",
      "{'TODAY': '2023-07-05', 'MODEL_ID': 'spy-signal-60t10-ds0115t0523'}\n",
      "True - 200 - OK - Not found price data at 2023-07-05  of SPY\n"
     ]
    }
   ],
   "source": [
    "from pandas.tseries.holiday import USFederalHolidayCalendar\n",
    "from pandas.tseries.offsets import CustomBusinessDay\n",
    "us_bd = CustomBusinessDay(calendar=USFederalHolidayCalendar())\n",
    "dateRange=pd.date_range(start=startX,end=endX,freq=us_bd)\n",
    "for date in dateRange:\n",
    "    date_str=date.strftime('%Y-%m-%d')\n",
    "    print(f\"=================trading day : {date_str}==================\")\n",
    "    make_forecast_x(date_str)\n",
    "    "
   ]
  },
  {
   "cell_type": "code",
   "execution_count": null,
   "id": "c9f56906-3c82-4e45-b2e8-07610324649e",
   "metadata": {},
   "outputs": [],
   "source": []
  },
  {
   "cell_type": "code",
   "execution_count": null,
   "id": "c2da6414-a73c-4b17-a596-e20162984254",
   "metadata": {},
   "outputs": [],
   "source": []
  },
  {
   "cell_type": "code",
   "execution_count": null,
   "id": "d7956c17-21f3-4398-b6ae-67b44c8d2540",
   "metadata": {},
   "outputs": [],
   "source": []
  }
 ],
 "metadata": {
  "kernelspec": {
   "display_name": "Python 3 (ipykernel)",
   "language": "python",
   "name": "python3"
  },
  "language_info": {
   "codemirror_mode": {
    "name": "ipython",
    "version": 3
   },
   "file_extension": ".py",
   "mimetype": "text/x-python",
   "name": "python",
   "nbconvert_exporter": "python",
   "pygments_lexer": "ipython3",
   "version": "3.9.16"
  }
 },
 "nbformat": 4,
 "nbformat_minor": 5
}
